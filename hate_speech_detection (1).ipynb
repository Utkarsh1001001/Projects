{
  "metadata": {
    "kernelspec": {
      "display_name": "Python 3",
      "name": "python3"
    },
    "language_info": {
      "name": "python",
      "version": "3.10.13",
      "mimetype": "text/x-python",
      "codemirror_mode": {
        "name": "ipython",
        "version": 3
      },
      "pygments_lexer": "ipython3",
      "nbconvert_exporter": "python",
      "file_extension": ".py"
    },
    "kaggle": {
      "accelerator": "none",
      "dataSources": [
        {
          "sourceId": 7105074,
          "sourceType": "datasetVersion",
          "datasetId": 4096079
        }
      ],
      "dockerImageVersionId": 30664,
      "isInternetEnabled": true,
      "language": "python",
      "sourceType": "notebook",
      "isGpuEnabled": false
    },
    "colab": {
      "provenance": [],
      "gpuType": "T4"
    },
    "accelerator": "GPU"
  },
  "nbformat_minor": 0,
  "nbformat": 4,
  "cells": [
    {
      "cell_type": "markdown",
      "source": [
        "# Introduction"
      ],
      "metadata": {
        "id": "GLd92IrBVuio"
      }
    },
    {
      "cell_type": "markdown",
      "source": [
        "**Table of Contents:**\n",
        "\n",
        "1. [Introduction](#Introduction)\n",
        "2. [Load Modules and Libraries](#Load-Modules-and-Libraries)\n",
        "3. [Load and Prepare Dataset](#Load-and-Prepare-Dataset)\n",
        "4. [Preprocessing](#Preprocessing)\n",
        "5. [Train Test Split](#Train-Test-Split)\n",
        "6. [Traditional Machine Learning: Feature Engineering, Training, and Testing](#Traditional-Machine-Learning:-Feature-Engineering,-Training,-and-Testing)\n",
        "7. [Deep Learning with LSTM: Feature Engineering, Training, and Testing](#Deep-Learning-with-LSTM:-Feature-Engineering,-Training,-and-Testing)\n",
        "8. [Demonstration](#Demonstration)\n",
        "9. [Conclusion](#Conclusion)"
      ],
      "metadata": {
        "id": "3DCADXVvVuiq"
      }
    },
    {
      "cell_type": "markdown",
      "source": [
        "# Load Modules and Libraries"
      ],
      "metadata": {
        "id": "76OslQCbVuir"
      }
    },
    {
      "cell_type": "code",
      "source": [
        "import pandas as pd\n",
        "import numpy as np\n",
        "import re\n",
        "import nltk\n",
        "import subprocess\n",
        "nltk.download('punkt')\n",
        "nltk.download('stopwords')\n",
        "from nltk.tokenize import word_tokenize\n",
        "from nltk.corpus import stopwords\n",
        "from nltk.stem import WordNetLemmatizer\n",
        "\n",
        "from sklearn.model_selection import train_test_split\n",
        "from sklearn.feature_extraction.text import CountVectorizer\n",
        "from sklearn.preprocessing import MaxAbsScaler\n",
        "from sklearn.model_selection import StratifiedKFold\n",
        "from sklearn.dummy import DummyClassifier\n",
        "from sklearn.linear_model import LogisticRegression\n",
        "from sklearn.svm import LinearSVC\n",
        "from sklearn.linear_model import SGDClassifier\n",
        "from sklearn.neighbors import KNeighborsClassifier\n",
        "from sklearn.naive_bayes import MultinomialNB\n",
        "from sklearn.tree import DecisionTreeClassifier\n",
        "from sklearn.ensemble import RandomForestClassifier, GradientBoostingClassifier\n",
        "from xgboost import XGBClassifier\n",
        "from sklearn.metrics import (\n",
        "    accuracy_score,\n",
        "    precision_score,\n",
        "    recall_score,\n",
        "    f1_score,\n",
        "    confusion_matrix,\n",
        "    ConfusionMatrixDisplay\n",
        ")\n",
        "from imblearn.over_sampling import RandomOverSampler\n",
        "from imblearn.under_sampling import RandomUnderSampler\n",
        "from collections import namedtuple\n",
        "from tensorflow.keras.layers import Embedding, LSTM, Dense, Dropout, Bidirectional\n",
        "from tensorflow.keras.models import Sequential\n",
        "from tensorflow.keras.callbacks import EarlyStopping\n",
        "from tensorflow.keras.optimizers import Adam\n",
        "from tensorflow.keras.optimizers import RMSprop\n",
        "from tensorflow.keras.preprocessing.sequence import pad_sequences\n",
        "\n",
        "try:\n",
        "    nltk.data.find('wordnet.zip')\n",
        "except:\n",
        "    nltk.download('wordnet', download_dir='/kaggle/working/')\n",
        "    command = \"unzip /kaggle/working/corpora/wordnet.zip -d /kaggle/working/corpora\"\n",
        "    subprocess.run(command.split())\n",
        "    nltk.data.path.append('/kaggle/working/')"
      ],
      "metadata": {
        "_uuid": "8f2839f25d086af736a60e9eeb907d3b93b6e0e5",
        "_cell_guid": "b1076dfc-b9ad-4769-8c92-a6c4dae69d19",
        "execution": {
          "iopub.status.busy": "2024-05-23T16:32:36.948676Z",
          "iopub.execute_input": "2024-05-23T16:32:36.949119Z",
          "iopub.status.idle": "2024-05-23T16:32:56.787084Z",
          "shell.execute_reply.started": "2024-05-23T16:32:36.949082Z",
          "shell.execute_reply": "2024-05-23T16:32:56.785546Z"
        },
        "trusted": true,
        "colab": {
          "base_uri": "https://localhost:8080/"
        },
        "id": "dgcA4vx3Vuir",
        "outputId": "050190dd-dd99-4ee4-e7b7-923e8d25db1a"
      },
      "execution_count": null,
      "outputs": [
        {
          "output_type": "stream",
          "name": "stderr",
          "text": [
            "[nltk_data] Downloading package punkt to /root/nltk_data...\n",
            "[nltk_data]   Package punkt is already up-to-date!\n",
            "[nltk_data] Downloading package stopwords to /root/nltk_data...\n",
            "[nltk_data]   Unzipping corpora/stopwords.zip.\n",
            "[nltk_data] Downloading package wordnet to /kaggle/working/...\n",
            "[nltk_data]   Package wordnet is already up-to-date!\n"
          ]
        }
      ]
    },
    {
      "cell_type": "markdown",
      "source": [
        "# Load and Prepare Dataset"
      ],
      "metadata": {
        "id": "PIs9XyhXVuis"
      }
    },
    {
      "cell_type": "code",
      "source": [
        "path = \"/content/train.csv\"\n",
        "df = pd.read_csv(path)\n",
        "df.head()\n",
        "print(df.head)"
      ],
      "metadata": {
        "execution": {
          "iopub.status.busy": "2024-05-23T16:32:56.789824Z",
          "iopub.execute_input": "2024-05-23T16:32:56.791084Z",
          "iopub.status.idle": "2024-05-23T16:32:56.926079Z",
          "shell.execute_reply.started": "2024-05-23T16:32:56.791037Z",
          "shell.execute_reply": "2024-05-23T16:32:56.924956Z"
        },
        "trusted": true,
        "colab": {
          "base_uri": "https://localhost:8080/",
          "height": 200
        },
        "id": "jkxbL28DVuit",
        "outputId": "fa668c33-acb0-4cbb-8e3f-b9b818baf97a"
      },
      "execution_count": null,
      "outputs": [
        {
          "output_type": "error",
          "ename": "NameError",
          "evalue": "name 'pd' is not defined",
          "traceback": [
            "\u001b[0;31m---------------------------------------------------------------------------\u001b[0m",
            "\u001b[0;31mNameError\u001b[0m                                 Traceback (most recent call last)",
            "\u001b[0;32m<ipython-input-1-7b9570bf2ecf>\u001b[0m in \u001b[0;36m<cell line: 2>\u001b[0;34m()\u001b[0m\n\u001b[1;32m      1\u001b[0m \u001b[0mpath\u001b[0m \u001b[0;34m=\u001b[0m \u001b[0;34m\"/content/train.csv\"\u001b[0m\u001b[0;34m\u001b[0m\u001b[0;34m\u001b[0m\u001b[0m\n\u001b[0;32m----> 2\u001b[0;31m \u001b[0mdf\u001b[0m \u001b[0;34m=\u001b[0m \u001b[0mpd\u001b[0m\u001b[0;34m.\u001b[0m\u001b[0mread_csv\u001b[0m\u001b[0;34m(\u001b[0m\u001b[0mpath\u001b[0m\u001b[0;34m)\u001b[0m\u001b[0;34m\u001b[0m\u001b[0;34m\u001b[0m\u001b[0m\n\u001b[0m\u001b[1;32m      3\u001b[0m \u001b[0mdf\u001b[0m\u001b[0;34m.\u001b[0m\u001b[0mhead\u001b[0m\u001b[0;34m(\u001b[0m\u001b[0;34m)\u001b[0m\u001b[0;34m\u001b[0m\u001b[0;34m\u001b[0m\u001b[0m\n\u001b[1;32m      4\u001b[0m \u001b[0mprint\u001b[0m\u001b[0;34m(\u001b[0m\u001b[0mdf\u001b[0m\u001b[0;34m.\u001b[0m\u001b[0mhead\u001b[0m\u001b[0;34m)\u001b[0m\u001b[0;34m\u001b[0m\u001b[0;34m\u001b[0m\u001b[0m\n",
            "\u001b[0;31mNameError\u001b[0m: name 'pd' is not defined"
          ]
        }
      ]
    },
    {
      "cell_type": "markdown",
      "source": [
        "There is a column called \"class\" but it's not clear what it represents.\n",
        "\n",
        "Let's see what \"class\" represents."
      ],
      "metadata": {
        "id": "Xz0silVIVuit"
      }
    },
    {
      "cell_type": "code",
      "source": [
        "(df\n",
        "     .groupby(\"class\")\n",
        "     .agg(\n",
        "        hate_speech_count=(\"hate_speech_count\", \"mean\"),\n",
        "        offensive_language_count=(\"offensive_language_count\", \"mean\"),\n",
        "        neither_count=(\"neither_count\", \"mean\"),\n",
        "     )\n",
        "     .round(1)\n",
        ")"
      ],
      "metadata": {
        "execution": {
          "iopub.status.busy": "2024-05-23T16:32:56.927610Z",
          "iopub.execute_input": "2024-05-23T16:32:56.927992Z",
          "iopub.status.idle": "2024-05-23T16:32:56.985933Z",
          "shell.execute_reply.started": "2024-05-23T16:32:56.927963Z",
          "shell.execute_reply": "2024-05-23T16:32:56.984739Z"
        },
        "trusted": true,
        "colab": {
          "base_uri": "https://localhost:8080/",
          "height": 175
        },
        "id": "5UB7N0OoVuit",
        "outputId": "321f2f6d-5838-4783-f016-35803d9d4750"
      },
      "execution_count": null,
      "outputs": [
        {
          "output_type": "execute_result",
          "data": {
            "text/plain": [
              "       hate_speech_count  offensive_language_count  neither_count\n",
              "class                                                            \n",
              "0                    2.3                       0.8            0.1\n",
              "1                    0.2                       3.0            0.1\n",
              "2                    0.1                       0.3            2.8"
            ],
            "text/html": [
              "\n",
              "  <div id=\"df-92fb40e7-449d-485c-bf1c-80881d0a253f\" class=\"colab-df-container\">\n",
              "    <div>\n",
              "<style scoped>\n",
              "    .dataframe tbody tr th:only-of-type {\n",
              "        vertical-align: middle;\n",
              "    }\n",
              "\n",
              "    .dataframe tbody tr th {\n",
              "        vertical-align: top;\n",
              "    }\n",
              "\n",
              "    .dataframe thead th {\n",
              "        text-align: right;\n",
              "    }\n",
              "</style>\n",
              "<table border=\"1\" class=\"dataframe\">\n",
              "  <thead>\n",
              "    <tr style=\"text-align: right;\">\n",
              "      <th></th>\n",
              "      <th>hate_speech_count</th>\n",
              "      <th>offensive_language_count</th>\n",
              "      <th>neither_count</th>\n",
              "    </tr>\n",
              "    <tr>\n",
              "      <th>class</th>\n",
              "      <th></th>\n",
              "      <th></th>\n",
              "      <th></th>\n",
              "    </tr>\n",
              "  </thead>\n",
              "  <tbody>\n",
              "    <tr>\n",
              "      <th>0</th>\n",
              "      <td>2.3</td>\n",
              "      <td>0.8</td>\n",
              "      <td>0.1</td>\n",
              "    </tr>\n",
              "    <tr>\n",
              "      <th>1</th>\n",
              "      <td>0.2</td>\n",
              "      <td>3.0</td>\n",
              "      <td>0.1</td>\n",
              "    </tr>\n",
              "    <tr>\n",
              "      <th>2</th>\n",
              "      <td>0.1</td>\n",
              "      <td>0.3</td>\n",
              "      <td>2.8</td>\n",
              "    </tr>\n",
              "  </tbody>\n",
              "</table>\n",
              "</div>\n",
              "    <div class=\"colab-df-buttons\">\n",
              "\n",
              "  <div class=\"colab-df-container\">\n",
              "    <button class=\"colab-df-convert\" onclick=\"convertToInteractive('df-92fb40e7-449d-485c-bf1c-80881d0a253f')\"\n",
              "            title=\"Convert this dataframe to an interactive table.\"\n",
              "            style=\"display:none;\">\n",
              "\n",
              "  <svg xmlns=\"http://www.w3.org/2000/svg\" height=\"24px\" viewBox=\"0 -960 960 960\">\n",
              "    <path d=\"M120-120v-720h720v720H120Zm60-500h600v-160H180v160Zm220 220h160v-160H400v160Zm0 220h160v-160H400v160ZM180-400h160v-160H180v160Zm440 0h160v-160H620v160ZM180-180h160v-160H180v160Zm440 0h160v-160H620v160Z\"/>\n",
              "  </svg>\n",
              "    </button>\n",
              "\n",
              "  <style>\n",
              "    .colab-df-container {\n",
              "      display:flex;\n",
              "      gap: 12px;\n",
              "    }\n",
              "\n",
              "    .colab-df-convert {\n",
              "      background-color: #E8F0FE;\n",
              "      border: none;\n",
              "      border-radius: 50%;\n",
              "      cursor: pointer;\n",
              "      display: none;\n",
              "      fill: #1967D2;\n",
              "      height: 32px;\n",
              "      padding: 0 0 0 0;\n",
              "      width: 32px;\n",
              "    }\n",
              "\n",
              "    .colab-df-convert:hover {\n",
              "      background-color: #E2EBFA;\n",
              "      box-shadow: 0px 1px 2px rgba(60, 64, 67, 0.3), 0px 1px 3px 1px rgba(60, 64, 67, 0.15);\n",
              "      fill: #174EA6;\n",
              "    }\n",
              "\n",
              "    .colab-df-buttons div {\n",
              "      margin-bottom: 4px;\n",
              "    }\n",
              "\n",
              "    [theme=dark] .colab-df-convert {\n",
              "      background-color: #3B4455;\n",
              "      fill: #D2E3FC;\n",
              "    }\n",
              "\n",
              "    [theme=dark] .colab-df-convert:hover {\n",
              "      background-color: #434B5C;\n",
              "      box-shadow: 0px 1px 3px 1px rgba(0, 0, 0, 0.15);\n",
              "      filter: drop-shadow(0px 1px 2px rgba(0, 0, 0, 0.3));\n",
              "      fill: #FFFFFF;\n",
              "    }\n",
              "  </style>\n",
              "\n",
              "    <script>\n",
              "      const buttonEl =\n",
              "        document.querySelector('#df-92fb40e7-449d-485c-bf1c-80881d0a253f button.colab-df-convert');\n",
              "      buttonEl.style.display =\n",
              "        google.colab.kernel.accessAllowed ? 'block' : 'none';\n",
              "\n",
              "      async function convertToInteractive(key) {\n",
              "        const element = document.querySelector('#df-92fb40e7-449d-485c-bf1c-80881d0a253f');\n",
              "        const dataTable =\n",
              "          await google.colab.kernel.invokeFunction('convertToInteractive',\n",
              "                                                    [key], {});\n",
              "        if (!dataTable) return;\n",
              "\n",
              "        const docLinkHtml = 'Like what you see? Visit the ' +\n",
              "          '<a target=\"_blank\" href=https://colab.research.google.com/notebooks/data_table.ipynb>data table notebook</a>'\n",
              "          + ' to learn more about interactive tables.';\n",
              "        element.innerHTML = '';\n",
              "        dataTable['output_type'] = 'display_data';\n",
              "        await google.colab.output.renderOutput(dataTable, element);\n",
              "        const docLink = document.createElement('div');\n",
              "        docLink.innerHTML = docLinkHtml;\n",
              "        element.appendChild(docLink);\n",
              "      }\n",
              "    </script>\n",
              "  </div>\n",
              "\n",
              "\n",
              "<div id=\"df-3c092143-76f2-4bf9-ba39-eed1c0358330\">\n",
              "  <button class=\"colab-df-quickchart\" onclick=\"quickchart('df-3c092143-76f2-4bf9-ba39-eed1c0358330')\"\n",
              "            title=\"Suggest charts\"\n",
              "            style=\"display:none;\">\n",
              "\n",
              "<svg xmlns=\"http://www.w3.org/2000/svg\" height=\"24px\"viewBox=\"0 0 24 24\"\n",
              "     width=\"24px\">\n",
              "    <g>\n",
              "        <path d=\"M19 3H5c-1.1 0-2 .9-2 2v14c0 1.1.9 2 2 2h14c1.1 0 2-.9 2-2V5c0-1.1-.9-2-2-2zM9 17H7v-7h2v7zm4 0h-2V7h2v10zm4 0h-2v-4h2v4z\"/>\n",
              "    </g>\n",
              "</svg>\n",
              "  </button>\n",
              "\n",
              "<style>\n",
              "  .colab-df-quickchart {\n",
              "      --bg-color: #E8F0FE;\n",
              "      --fill-color: #1967D2;\n",
              "      --hover-bg-color: #E2EBFA;\n",
              "      --hover-fill-color: #174EA6;\n",
              "      --disabled-fill-color: #AAA;\n",
              "      --disabled-bg-color: #DDD;\n",
              "  }\n",
              "\n",
              "  [theme=dark] .colab-df-quickchart {\n",
              "      --bg-color: #3B4455;\n",
              "      --fill-color: #D2E3FC;\n",
              "      --hover-bg-color: #434B5C;\n",
              "      --hover-fill-color: #FFFFFF;\n",
              "      --disabled-bg-color: #3B4455;\n",
              "      --disabled-fill-color: #666;\n",
              "  }\n",
              "\n",
              "  .colab-df-quickchart {\n",
              "    background-color: var(--bg-color);\n",
              "    border: none;\n",
              "    border-radius: 50%;\n",
              "    cursor: pointer;\n",
              "    display: none;\n",
              "    fill: var(--fill-color);\n",
              "    height: 32px;\n",
              "    padding: 0;\n",
              "    width: 32px;\n",
              "  }\n",
              "\n",
              "  .colab-df-quickchart:hover {\n",
              "    background-color: var(--hover-bg-color);\n",
              "    box-shadow: 0 1px 2px rgba(60, 64, 67, 0.3), 0 1px 3px 1px rgba(60, 64, 67, 0.15);\n",
              "    fill: var(--button-hover-fill-color);\n",
              "  }\n",
              "\n",
              "  .colab-df-quickchart-complete:disabled,\n",
              "  .colab-df-quickchart-complete:disabled:hover {\n",
              "    background-color: var(--disabled-bg-color);\n",
              "    fill: var(--disabled-fill-color);\n",
              "    box-shadow: none;\n",
              "  }\n",
              "\n",
              "  .colab-df-spinner {\n",
              "    border: 2px solid var(--fill-color);\n",
              "    border-color: transparent;\n",
              "    border-bottom-color: var(--fill-color);\n",
              "    animation:\n",
              "      spin 1s steps(1) infinite;\n",
              "  }\n",
              "\n",
              "  @keyframes spin {\n",
              "    0% {\n",
              "      border-color: transparent;\n",
              "      border-bottom-color: var(--fill-color);\n",
              "      border-left-color: var(--fill-color);\n",
              "    }\n",
              "    20% {\n",
              "      border-color: transparent;\n",
              "      border-left-color: var(--fill-color);\n",
              "      border-top-color: var(--fill-color);\n",
              "    }\n",
              "    30% {\n",
              "      border-color: transparent;\n",
              "      border-left-color: var(--fill-color);\n",
              "      border-top-color: var(--fill-color);\n",
              "      border-right-color: var(--fill-color);\n",
              "    }\n",
              "    40% {\n",
              "      border-color: transparent;\n",
              "      border-right-color: var(--fill-color);\n",
              "      border-top-color: var(--fill-color);\n",
              "    }\n",
              "    60% {\n",
              "      border-color: transparent;\n",
              "      border-right-color: var(--fill-color);\n",
              "    }\n",
              "    80% {\n",
              "      border-color: transparent;\n",
              "      border-right-color: var(--fill-color);\n",
              "      border-bottom-color: var(--fill-color);\n",
              "    }\n",
              "    90% {\n",
              "      border-color: transparent;\n",
              "      border-bottom-color: var(--fill-color);\n",
              "    }\n",
              "  }\n",
              "</style>\n",
              "\n",
              "  <script>\n",
              "    async function quickchart(key) {\n",
              "      const quickchartButtonEl =\n",
              "        document.querySelector('#' + key + ' button');\n",
              "      quickchartButtonEl.disabled = true;  // To prevent multiple clicks.\n",
              "      quickchartButtonEl.classList.add('colab-df-spinner');\n",
              "      try {\n",
              "        const charts = await google.colab.kernel.invokeFunction(\n",
              "            'suggestCharts', [key], {});\n",
              "      } catch (error) {\n",
              "        console.error('Error during call to suggestCharts:', error);\n",
              "      }\n",
              "      quickchartButtonEl.classList.remove('colab-df-spinner');\n",
              "      quickchartButtonEl.classList.add('colab-df-quickchart-complete');\n",
              "    }\n",
              "    (() => {\n",
              "      let quickchartButtonEl =\n",
              "        document.querySelector('#df-3c092143-76f2-4bf9-ba39-eed1c0358330 button');\n",
              "      quickchartButtonEl.style.display =\n",
              "        google.colab.kernel.accessAllowed ? 'block' : 'none';\n",
              "    })();\n",
              "  </script>\n",
              "</div>\n",
              "\n",
              "    </div>\n",
              "  </div>\n"
            ],
            "application/vnd.google.colaboratory.intrinsic+json": {
              "type": "dataframe",
              "summary": "{\n  \"name\": \")\",\n  \"rows\": 3,\n  \"fields\": [\n    {\n      \"column\": \"class\",\n      \"properties\": {\n        \"dtype\": \"number\",\n        \"std\": 1,\n        \"min\": 0,\n        \"max\": 2,\n        \"num_unique_values\": 3,\n        \"samples\": [\n          0,\n          1,\n          2\n        ],\n        \"semantic_type\": \"\",\n        \"description\": \"\"\n      }\n    },\n    {\n      \"column\": \"hate_speech_count\",\n      \"properties\": {\n        \"dtype\": \"number\",\n        \"std\": 1.2423096769056148,\n        \"min\": 0.1,\n        \"max\": 2.3,\n        \"num_unique_values\": 3,\n        \"samples\": [\n          2.3,\n          0.2,\n          0.1\n        ],\n        \"semantic_type\": \"\",\n        \"description\": \"\"\n      }\n    },\n    {\n      \"column\": \"offensive_language_count\",\n      \"properties\": {\n        \"dtype\": \"number\",\n        \"std\": 1.4364307617610161,\n        \"min\": 0.3,\n        \"max\": 3.0,\n        \"num_unique_values\": 3,\n        \"samples\": [\n          0.8,\n          3.0,\n          0.3\n        ],\n        \"semantic_type\": \"\",\n        \"description\": \"\"\n      }\n    },\n    {\n      \"column\": \"neither_count\",\n      \"properties\": {\n        \"dtype\": \"number\",\n        \"std\": 1.5588457268119895,\n        \"min\": 0.1,\n        \"max\": 2.8,\n        \"num_unique_values\": 2,\n        \"samples\": [\n          2.8,\n          0.1\n        ],\n        \"semantic_type\": \"\",\n        \"description\": \"\"\n      }\n    }\n  ]\n}"
            }
          },
          "metadata": {},
          "execution_count": 24
        }
      ]
    },
    {
      "cell_type": "markdown",
      "source": [
        "From this, we can see that\n",
        "- class 0 = hate tweet\n",
        "- class 1 = offensive tweet\n",
        "- class 2 = neutral tweet"
      ],
      "metadata": {
        "id": "Gi4Biy03Vuit"
      }
    },
    {
      "cell_type": "markdown",
      "source": [
        "Let's remove unnecessary columns."
      ],
      "metadata": {
        "id": "uM4cwbRSVuit"
      }
    },
    {
      "cell_type": "code",
      "source": [
        "df = (df\n",
        "    .drop(columns=[\"count\", \"hate_speech_count\", \"offensive_language_count\", \"neither_count\"])\n",
        ")\n",
        "df.head()"
      ],
      "metadata": {
        "execution": {
          "iopub.status.busy": "2024-05-23T16:32:56.988818Z",
          "iopub.execute_input": "2024-05-23T16:32:56.989844Z",
          "iopub.status.idle": "2024-05-23T16:32:57.006726Z",
          "shell.execute_reply.started": "2024-05-23T16:32:56.989797Z",
          "shell.execute_reply": "2024-05-23T16:32:57.005063Z"
        },
        "trusted": true,
        "colab": {
          "base_uri": "https://localhost:8080/",
          "height": 206
        },
        "id": "IVDIPChHVuiu",
        "outputId": "cd81e531-b0f8-4ea7-bfca-11da452d4371"
      },
      "execution_count": null,
      "outputs": [
        {
          "output_type": "execute_result",
          "data": {
            "text/plain": [
              "   class                                              tweet\n",
              "0      2  !!! RT @mayasolovely: As a woman you shouldn't...\n",
              "1      1  !!!!! RT @mleew17: boy dats cold...tyga dwn ba...\n",
              "2      1  !!!!!!! RT @UrKindOfBrand Dawg!!!! RT @80sbaby...\n",
              "3      1  !!!!!!!!! RT @C_G_Anderson: @viva_based she lo...\n",
              "4      1  !!!!!!!!!!!!! RT @ShenikaRoberts: The shit you..."
            ],
            "text/html": [
              "\n",
              "  <div id=\"df-f3c0b091-72c6-49d6-8809-b1cc1b8835cd\" class=\"colab-df-container\">\n",
              "    <div>\n",
              "<style scoped>\n",
              "    .dataframe tbody tr th:only-of-type {\n",
              "        vertical-align: middle;\n",
              "    }\n",
              "\n",
              "    .dataframe tbody tr th {\n",
              "        vertical-align: top;\n",
              "    }\n",
              "\n",
              "    .dataframe thead th {\n",
              "        text-align: right;\n",
              "    }\n",
              "</style>\n",
              "<table border=\"1\" class=\"dataframe\">\n",
              "  <thead>\n",
              "    <tr style=\"text-align: right;\">\n",
              "      <th></th>\n",
              "      <th>class</th>\n",
              "      <th>tweet</th>\n",
              "    </tr>\n",
              "  </thead>\n",
              "  <tbody>\n",
              "    <tr>\n",
              "      <th>0</th>\n",
              "      <td>2</td>\n",
              "      <td>!!! RT @mayasolovely: As a woman you shouldn't...</td>\n",
              "    </tr>\n",
              "    <tr>\n",
              "      <th>1</th>\n",
              "      <td>1</td>\n",
              "      <td>!!!!! RT @mleew17: boy dats cold...tyga dwn ba...</td>\n",
              "    </tr>\n",
              "    <tr>\n",
              "      <th>2</th>\n",
              "      <td>1</td>\n",
              "      <td>!!!!!!! RT @UrKindOfBrand Dawg!!!! RT @80sbaby...</td>\n",
              "    </tr>\n",
              "    <tr>\n",
              "      <th>3</th>\n",
              "      <td>1</td>\n",
              "      <td>!!!!!!!!! RT @C_G_Anderson: @viva_based she lo...</td>\n",
              "    </tr>\n",
              "    <tr>\n",
              "      <th>4</th>\n",
              "      <td>1</td>\n",
              "      <td>!!!!!!!!!!!!! RT @ShenikaRoberts: The shit you...</td>\n",
              "    </tr>\n",
              "  </tbody>\n",
              "</table>\n",
              "</div>\n",
              "    <div class=\"colab-df-buttons\">\n",
              "\n",
              "  <div class=\"colab-df-container\">\n",
              "    <button class=\"colab-df-convert\" onclick=\"convertToInteractive('df-f3c0b091-72c6-49d6-8809-b1cc1b8835cd')\"\n",
              "            title=\"Convert this dataframe to an interactive table.\"\n",
              "            style=\"display:none;\">\n",
              "\n",
              "  <svg xmlns=\"http://www.w3.org/2000/svg\" height=\"24px\" viewBox=\"0 -960 960 960\">\n",
              "    <path d=\"M120-120v-720h720v720H120Zm60-500h600v-160H180v160Zm220 220h160v-160H400v160Zm0 220h160v-160H400v160ZM180-400h160v-160H180v160Zm440 0h160v-160H620v160ZM180-180h160v-160H180v160Zm440 0h160v-160H620v160Z\"/>\n",
              "  </svg>\n",
              "    </button>\n",
              "\n",
              "  <style>\n",
              "    .colab-df-container {\n",
              "      display:flex;\n",
              "      gap: 12px;\n",
              "    }\n",
              "\n",
              "    .colab-df-convert {\n",
              "      background-color: #E8F0FE;\n",
              "      border: none;\n",
              "      border-radius: 50%;\n",
              "      cursor: pointer;\n",
              "      display: none;\n",
              "      fill: #1967D2;\n",
              "      height: 32px;\n",
              "      padding: 0 0 0 0;\n",
              "      width: 32px;\n",
              "    }\n",
              "\n",
              "    .colab-df-convert:hover {\n",
              "      background-color: #E2EBFA;\n",
              "      box-shadow: 0px 1px 2px rgba(60, 64, 67, 0.3), 0px 1px 3px 1px rgba(60, 64, 67, 0.15);\n",
              "      fill: #174EA6;\n",
              "    }\n",
              "\n",
              "    .colab-df-buttons div {\n",
              "      margin-bottom: 4px;\n",
              "    }\n",
              "\n",
              "    [theme=dark] .colab-df-convert {\n",
              "      background-color: #3B4455;\n",
              "      fill: #D2E3FC;\n",
              "    }\n",
              "\n",
              "    [theme=dark] .colab-df-convert:hover {\n",
              "      background-color: #434B5C;\n",
              "      box-shadow: 0px 1px 3px 1px rgba(0, 0, 0, 0.15);\n",
              "      filter: drop-shadow(0px 1px 2px rgba(0, 0, 0, 0.3));\n",
              "      fill: #FFFFFF;\n",
              "    }\n",
              "  </style>\n",
              "\n",
              "    <script>\n",
              "      const buttonEl =\n",
              "        document.querySelector('#df-f3c0b091-72c6-49d6-8809-b1cc1b8835cd button.colab-df-convert');\n",
              "      buttonEl.style.display =\n",
              "        google.colab.kernel.accessAllowed ? 'block' : 'none';\n",
              "\n",
              "      async function convertToInteractive(key) {\n",
              "        const element = document.querySelector('#df-f3c0b091-72c6-49d6-8809-b1cc1b8835cd');\n",
              "        const dataTable =\n",
              "          await google.colab.kernel.invokeFunction('convertToInteractive',\n",
              "                                                    [key], {});\n",
              "        if (!dataTable) return;\n",
              "\n",
              "        const docLinkHtml = 'Like what you see? Visit the ' +\n",
              "          '<a target=\"_blank\" href=https://colab.research.google.com/notebooks/data_table.ipynb>data table notebook</a>'\n",
              "          + ' to learn more about interactive tables.';\n",
              "        element.innerHTML = '';\n",
              "        dataTable['output_type'] = 'display_data';\n",
              "        await google.colab.output.renderOutput(dataTable, element);\n",
              "        const docLink = document.createElement('div');\n",
              "        docLink.innerHTML = docLinkHtml;\n",
              "        element.appendChild(docLink);\n",
              "      }\n",
              "    </script>\n",
              "  </div>\n",
              "\n",
              "\n",
              "<div id=\"df-33ca06c9-7f6e-4829-8ea4-2de865c1ac9f\">\n",
              "  <button class=\"colab-df-quickchart\" onclick=\"quickchart('df-33ca06c9-7f6e-4829-8ea4-2de865c1ac9f')\"\n",
              "            title=\"Suggest charts\"\n",
              "            style=\"display:none;\">\n",
              "\n",
              "<svg xmlns=\"http://www.w3.org/2000/svg\" height=\"24px\"viewBox=\"0 0 24 24\"\n",
              "     width=\"24px\">\n",
              "    <g>\n",
              "        <path d=\"M19 3H5c-1.1 0-2 .9-2 2v14c0 1.1.9 2 2 2h14c1.1 0 2-.9 2-2V5c0-1.1-.9-2-2-2zM9 17H7v-7h2v7zm4 0h-2V7h2v10zm4 0h-2v-4h2v4z\"/>\n",
              "    </g>\n",
              "</svg>\n",
              "  </button>\n",
              "\n",
              "<style>\n",
              "  .colab-df-quickchart {\n",
              "      --bg-color: #E8F0FE;\n",
              "      --fill-color: #1967D2;\n",
              "      --hover-bg-color: #E2EBFA;\n",
              "      --hover-fill-color: #174EA6;\n",
              "      --disabled-fill-color: #AAA;\n",
              "      --disabled-bg-color: #DDD;\n",
              "  }\n",
              "\n",
              "  [theme=dark] .colab-df-quickchart {\n",
              "      --bg-color: #3B4455;\n",
              "      --fill-color: #D2E3FC;\n",
              "      --hover-bg-color: #434B5C;\n",
              "      --hover-fill-color: #FFFFFF;\n",
              "      --disabled-bg-color: #3B4455;\n",
              "      --disabled-fill-color: #666;\n",
              "  }\n",
              "\n",
              "  .colab-df-quickchart {\n",
              "    background-color: var(--bg-color);\n",
              "    border: none;\n",
              "    border-radius: 50%;\n",
              "    cursor: pointer;\n",
              "    display: none;\n",
              "    fill: var(--fill-color);\n",
              "    height: 32px;\n",
              "    padding: 0;\n",
              "    width: 32px;\n",
              "  }\n",
              "\n",
              "  .colab-df-quickchart:hover {\n",
              "    background-color: var(--hover-bg-color);\n",
              "    box-shadow: 0 1px 2px rgba(60, 64, 67, 0.3), 0 1px 3px 1px rgba(60, 64, 67, 0.15);\n",
              "    fill: var(--button-hover-fill-color);\n",
              "  }\n",
              "\n",
              "  .colab-df-quickchart-complete:disabled,\n",
              "  .colab-df-quickchart-complete:disabled:hover {\n",
              "    background-color: var(--disabled-bg-color);\n",
              "    fill: var(--disabled-fill-color);\n",
              "    box-shadow: none;\n",
              "  }\n",
              "\n",
              "  .colab-df-spinner {\n",
              "    border: 2px solid var(--fill-color);\n",
              "    border-color: transparent;\n",
              "    border-bottom-color: var(--fill-color);\n",
              "    animation:\n",
              "      spin 1s steps(1) infinite;\n",
              "  }\n",
              "\n",
              "  @keyframes spin {\n",
              "    0% {\n",
              "      border-color: transparent;\n",
              "      border-bottom-color: var(--fill-color);\n",
              "      border-left-color: var(--fill-color);\n",
              "    }\n",
              "    20% {\n",
              "      border-color: transparent;\n",
              "      border-left-color: var(--fill-color);\n",
              "      border-top-color: var(--fill-color);\n",
              "    }\n",
              "    30% {\n",
              "      border-color: transparent;\n",
              "      border-left-color: var(--fill-color);\n",
              "      border-top-color: var(--fill-color);\n",
              "      border-right-color: var(--fill-color);\n",
              "    }\n",
              "    40% {\n",
              "      border-color: transparent;\n",
              "      border-right-color: var(--fill-color);\n",
              "      border-top-color: var(--fill-color);\n",
              "    }\n",
              "    60% {\n",
              "      border-color: transparent;\n",
              "      border-right-color: var(--fill-color);\n",
              "    }\n",
              "    80% {\n",
              "      border-color: transparent;\n",
              "      border-right-color: var(--fill-color);\n",
              "      border-bottom-color: var(--fill-color);\n",
              "    }\n",
              "    90% {\n",
              "      border-color: transparent;\n",
              "      border-bottom-color: var(--fill-color);\n",
              "    }\n",
              "  }\n",
              "</style>\n",
              "\n",
              "  <script>\n",
              "    async function quickchart(key) {\n",
              "      const quickchartButtonEl =\n",
              "        document.querySelector('#' + key + ' button');\n",
              "      quickchartButtonEl.disabled = true;  // To prevent multiple clicks.\n",
              "      quickchartButtonEl.classList.add('colab-df-spinner');\n",
              "      try {\n",
              "        const charts = await google.colab.kernel.invokeFunction(\n",
              "            'suggestCharts', [key], {});\n",
              "      } catch (error) {\n",
              "        console.error('Error during call to suggestCharts:', error);\n",
              "      }\n",
              "      quickchartButtonEl.classList.remove('colab-df-spinner');\n",
              "      quickchartButtonEl.classList.add('colab-df-quickchart-complete');\n",
              "    }\n",
              "    (() => {\n",
              "      let quickchartButtonEl =\n",
              "        document.querySelector('#df-33ca06c9-7f6e-4829-8ea4-2de865c1ac9f button');\n",
              "      quickchartButtonEl.style.display =\n",
              "        google.colab.kernel.accessAllowed ? 'block' : 'none';\n",
              "    })();\n",
              "  </script>\n",
              "</div>\n",
              "\n",
              "    </div>\n",
              "  </div>\n"
            ],
            "application/vnd.google.colaboratory.intrinsic+json": {
              "type": "dataframe",
              "variable_name": "df",
              "summary": "{\n  \"name\": \"df\",\n  \"rows\": 24783,\n  \"fields\": [\n    {\n      \"column\": \"class\",\n      \"properties\": {\n        \"dtype\": \"number\",\n        \"std\": 0,\n        \"min\": 0,\n        \"max\": 2,\n        \"num_unique_values\": 3,\n        \"samples\": [\n          2,\n          1,\n          0\n        ],\n        \"semantic_type\": \"\",\n        \"description\": \"\"\n      }\n    },\n    {\n      \"column\": \"tweet\",\n      \"properties\": {\n        \"dtype\": \"string\",\n        \"num_unique_values\": 24783,\n        \"samples\": [\n          \"934 8616\\ni got a missed call from yo bitch\",\n          \"RT @KINGTUNCHI_: Fucking with a bad bitch you gone need some money lil homie!\",\n          \"RT @eanahS__: @1inkkofrosess lol my credit ain't no where near good , but I know the right man for the job .. that ho nice though!\"\n        ],\n        \"semantic_type\": \"\",\n        \"description\": \"\"\n      }\n    }\n  ]\n}"
            }
          },
          "metadata": {},
          "execution_count": 25
        }
      ]
    },
    {
      "cell_type": "markdown",
      "source": [
        "Let's see the distribution of the labels."
      ],
      "metadata": {
        "id": "Rl9NN9GLVuiu"
      }
    },
    {
      "cell_type": "code",
      "source": [
        "df[\"class\"].value_counts(dropna=False, normalize=True).sort_index()"
      ],
      "metadata": {
        "execution": {
          "iopub.status.busy": "2024-05-23T16:32:57.008635Z",
          "iopub.execute_input": "2024-05-23T16:32:57.009933Z",
          "iopub.status.idle": "2024-05-23T16:32:57.027350Z",
          "shell.execute_reply.started": "2024-05-23T16:32:57.009883Z",
          "shell.execute_reply": "2024-05-23T16:32:57.025969Z"
        },
        "trusted": true,
        "colab": {
          "base_uri": "https://localhost:8080/"
        },
        "id": "e9TBLy_nVuiu",
        "outputId": "93173df0-b129-47d2-9350-83e8af28875f"
      },
      "execution_count": null,
      "outputs": [
        {
          "output_type": "execute_result",
          "data": {
            "text/plain": [
              "class\n",
              "0    0.057701\n",
              "1    0.774321\n",
              "2    0.167978\n",
              "Name: proportion, dtype: float64"
            ]
          },
          "metadata": {},
          "execution_count": 26
        }
      ]
    },
    {
      "cell_type": "markdown",
      "source": [
        "Because class 0 is very few, I will merge class 0 with class 1 to make it hate speech+offensive language. Then, I will remap the class so that 0 = neutral and 1 = hate speech + offensive language."
      ],
      "metadata": {
        "id": "L-Wx4iDxVuiu"
      }
    },
    {
      "cell_type": "code",
      "source": [
        "df = (df\n",
        "    .assign(\n",
        "        class_=df[\"class\"].map({\n",
        "            0:1,\n",
        "            1:1,\n",
        "            2:0\n",
        "        })\n",
        "    )\n",
        "    .drop(columns=[\"class\"])\n",
        "    .rename(columns={\"class_\": \"class\"})\n",
        ")\n",
        "\n",
        "df[\"class\"].value_counts(dropna=False, normalize=True).sort_index()"
      ],
      "metadata": {
        "execution": {
          "iopub.status.busy": "2024-05-23T16:32:57.029575Z",
          "iopub.execute_input": "2024-05-23T16:32:57.030487Z",
          "iopub.status.idle": "2024-05-23T16:32:57.053936Z",
          "shell.execute_reply.started": "2024-05-23T16:32:57.030436Z",
          "shell.execute_reply": "2024-05-23T16:32:57.052791Z"
        },
        "trusted": true,
        "colab": {
          "base_uri": "https://localhost:8080/"
        },
        "id": "Hefooim2Vuiv",
        "outputId": "3f6ea438-ff1a-4f32-8c0c-a0c95d1f7c39"
      },
      "execution_count": null,
      "outputs": [
        {
          "output_type": "execute_result",
          "data": {
            "text/plain": [
              "class\n",
              "0    0.167978\n",
              "1    0.832022\n",
              "Name: proportion, dtype: float64"
            ]
          },
          "metadata": {},
          "execution_count": 27
        }
      ]
    },
    {
      "cell_type": "markdown",
      "source": [
        "Now it becomes\n",
        "- class 0 = neutral tweet\n",
        "- class 1 = offensive tweet and hate speech tweet"
      ],
      "metadata": {
        "id": "dAnm_KZYVuiv"
      }
    },
    {
      "cell_type": "code",
      "source": [
        "class_map = {\n",
        "    0: \"neutral\",\n",
        "    1: \"offensive and hate speech\"\n",
        "}"
      ],
      "metadata": {
        "execution": {
          "iopub.status.busy": "2024-05-23T16:32:57.055172Z",
          "iopub.execute_input": "2024-05-23T16:32:57.055559Z",
          "iopub.status.idle": "2024-05-23T16:32:57.060929Z",
          "shell.execute_reply.started": "2024-05-23T16:32:57.055526Z",
          "shell.execute_reply": "2024-05-23T16:32:57.059911Z"
        },
        "trusted": true,
        "id": "EPgWIkPPVuiv"
      },
      "execution_count": null,
      "outputs": []
    },
    {
      "cell_type": "markdown",
      "source": [
        "# Text Cleaning"
      ],
      "metadata": {
        "id": "TLgx3vW8Vuiv"
      }
    },
    {
      "cell_type": "markdown",
      "source": [
        "Now we need to clean our text because they are in raw tweet format; there is a lot of unnecessary elements like urls or twitter handles."
      ],
      "metadata": {
        "id": "oe1NQB0RVuiv"
      }
    },
    {
      "cell_type": "code",
      "source": [
        "def remove_urls(text, replacement_text=\"\"):\n",
        "    \"\"\"Remove URLs from string.\"\"\"\n",
        "    pattern = re.compile(r\"https?://\\S+|www\\.\\S+\")\n",
        "    return pattern.sub(replacement_text, text)\n",
        "\n",
        "\n",
        "def remove_twitter_handles(text, replacement_text=\"\"):\n",
        "    \"\"\"Remove twitter handles from string.\"\"\"\n",
        "    pattern = re.compile(r\"@[\\w]+\")\n",
        "    return pattern.sub(replacement_text, text)\n",
        "\n",
        "\n",
        "def remove_twitter_rt(text, replacement_text=\"\"):\n",
        "    \"\"\"Remove twitter RTs from string.\"\"\"\n",
        "    pattern = re.compile(r\"^RT|\\s+RT\\s+\")\n",
        "    return pattern.sub(replacement_text, text)\n",
        "\n",
        "\n",
        "def remove_alphanumerics(text, replacement_text=\" \"):\n",
        "    \"\"\"Remove alphanumerics from string but leave single quote be.\"\"\"\n",
        "    pattern = re.compile(r\"[^A-Za-z0-9']+\")\n",
        "    return pattern.sub(replacement_text, text)\n",
        "\n",
        "\n",
        "def remove_multiple_whitespaces(text, replacement_text=\" \"):\n",
        "    \"\"\"Remove multiple whitespaces from string.\"\"\"\n",
        "    pattern = re.compile(r\"\\s{2,}\")\n",
        "    return pattern.sub(replacement_text, text)\n",
        "\n",
        "\n",
        "def decode_html_character_references(text):\n",
        "    \"\"\"Decode HTML chacarters in string, e.g. &#38; and &amp;.\"\"\"\n",
        "    import html\n",
        "    return html.unescape(text)\n",
        "\n",
        "\n",
        "df = (df\n",
        "    .assign(\n",
        "        tweet_clean=lambda df_: (df_[\"tweet\"]\n",
        "            .apply(decode_html_character_references)\n",
        "            .apply(remove_twitter_handles)\n",
        "            .apply(remove_twitter_rt)\n",
        "            .apply(remove_urls)\n",
        "            .apply(remove_alphanumerics)\n",
        "            .apply(remove_multiple_whitespaces)\n",
        "            .str.strip()\n",
        "        )\n",
        "    )\n",
        ")\n",
        "\n",
        "df.tail()"
      ],
      "metadata": {
        "execution": {
          "iopub.status.busy": "2024-05-23T16:32:57.062918Z",
          "iopub.execute_input": "2024-05-23T16:32:57.063393Z",
          "iopub.status.idle": "2024-05-23T16:32:57.891897Z",
          "shell.execute_reply.started": "2024-05-23T16:32:57.063351Z",
          "shell.execute_reply": "2024-05-23T16:32:57.890940Z"
        },
        "trusted": true,
        "colab": {
          "base_uri": "https://localhost:8080/",
          "height": 206
        },
        "id": "-yB4H3ZYVuiv",
        "outputId": "93a6a4e5-9f89-4dca-9b72-c25532fcd815"
      },
      "execution_count": null,
      "outputs": [
        {
          "output_type": "execute_result",
          "data": {
            "text/plain": [
              "                                                   tweet  class  \\\n",
              "24778  you's a muthaf***in lie &#8220;@LifeAsKing: @2...      1   \n",
              "24779  you've gone and broke the wrong heart baby, an...      0   \n",
              "24780  young buck wanna eat!!.. dat nigguh like I ain...      1   \n",
              "24781              youu got wild bitches tellin you lies      1   \n",
              "24782  ~~Ruffled | Ntac Eileen Dahlia - Beautiful col...      0   \n",
              "\n",
              "                                             tweet_clean  \n",
              "24778  you's a muthaf in lie right His TL is trash No...  \n",
              "24779  you've gone and broke the wrong heart baby and...  \n",
              "24780  young buck wanna eat dat nigguh like I aint fu...  \n",
              "24781              youu got wild bitches tellin you lies  \n",
              "24782  Ruffled Ntac Eileen Dahlia Beautiful color com...  "
            ],
            "text/html": [
              "\n",
              "  <div id=\"df-47afb2db-4642-4337-b746-dcc3d014684b\" class=\"colab-df-container\">\n",
              "    <div>\n",
              "<style scoped>\n",
              "    .dataframe tbody tr th:only-of-type {\n",
              "        vertical-align: middle;\n",
              "    }\n",
              "\n",
              "    .dataframe tbody tr th {\n",
              "        vertical-align: top;\n",
              "    }\n",
              "\n",
              "    .dataframe thead th {\n",
              "        text-align: right;\n",
              "    }\n",
              "</style>\n",
              "<table border=\"1\" class=\"dataframe\">\n",
              "  <thead>\n",
              "    <tr style=\"text-align: right;\">\n",
              "      <th></th>\n",
              "      <th>tweet</th>\n",
              "      <th>class</th>\n",
              "      <th>tweet_clean</th>\n",
              "    </tr>\n",
              "  </thead>\n",
              "  <tbody>\n",
              "    <tr>\n",
              "      <th>24778</th>\n",
              "      <td>you's a muthaf***in lie &amp;#8220;@LifeAsKing: @2...</td>\n",
              "      <td>1</td>\n",
              "      <td>you's a muthaf in lie right His TL is trash No...</td>\n",
              "    </tr>\n",
              "    <tr>\n",
              "      <th>24779</th>\n",
              "      <td>you've gone and broke the wrong heart baby, an...</td>\n",
              "      <td>0</td>\n",
              "      <td>you've gone and broke the wrong heart baby and...</td>\n",
              "    </tr>\n",
              "    <tr>\n",
              "      <th>24780</th>\n",
              "      <td>young buck wanna eat!!.. dat nigguh like I ain...</td>\n",
              "      <td>1</td>\n",
              "      <td>young buck wanna eat dat nigguh like I aint fu...</td>\n",
              "    </tr>\n",
              "    <tr>\n",
              "      <th>24781</th>\n",
              "      <td>youu got wild bitches tellin you lies</td>\n",
              "      <td>1</td>\n",
              "      <td>youu got wild bitches tellin you lies</td>\n",
              "    </tr>\n",
              "    <tr>\n",
              "      <th>24782</th>\n",
              "      <td>~~Ruffled | Ntac Eileen Dahlia - Beautiful col...</td>\n",
              "      <td>0</td>\n",
              "      <td>Ruffled Ntac Eileen Dahlia Beautiful color com...</td>\n",
              "    </tr>\n",
              "  </tbody>\n",
              "</table>\n",
              "</div>\n",
              "    <div class=\"colab-df-buttons\">\n",
              "\n",
              "  <div class=\"colab-df-container\">\n",
              "    <button class=\"colab-df-convert\" onclick=\"convertToInteractive('df-47afb2db-4642-4337-b746-dcc3d014684b')\"\n",
              "            title=\"Convert this dataframe to an interactive table.\"\n",
              "            style=\"display:none;\">\n",
              "\n",
              "  <svg xmlns=\"http://www.w3.org/2000/svg\" height=\"24px\" viewBox=\"0 -960 960 960\">\n",
              "    <path d=\"M120-120v-720h720v720H120Zm60-500h600v-160H180v160Zm220 220h160v-160H400v160Zm0 220h160v-160H400v160ZM180-400h160v-160H180v160Zm440 0h160v-160H620v160ZM180-180h160v-160H180v160Zm440 0h160v-160H620v160Z\"/>\n",
              "  </svg>\n",
              "    </button>\n",
              "\n",
              "  <style>\n",
              "    .colab-df-container {\n",
              "      display:flex;\n",
              "      gap: 12px;\n",
              "    }\n",
              "\n",
              "    .colab-df-convert {\n",
              "      background-color: #E8F0FE;\n",
              "      border: none;\n",
              "      border-radius: 50%;\n",
              "      cursor: pointer;\n",
              "      display: none;\n",
              "      fill: #1967D2;\n",
              "      height: 32px;\n",
              "      padding: 0 0 0 0;\n",
              "      width: 32px;\n",
              "    }\n",
              "\n",
              "    .colab-df-convert:hover {\n",
              "      background-color: #E2EBFA;\n",
              "      box-shadow: 0px 1px 2px rgba(60, 64, 67, 0.3), 0px 1px 3px 1px rgba(60, 64, 67, 0.15);\n",
              "      fill: #174EA6;\n",
              "    }\n",
              "\n",
              "    .colab-df-buttons div {\n",
              "      margin-bottom: 4px;\n",
              "    }\n",
              "\n",
              "    [theme=dark] .colab-df-convert {\n",
              "      background-color: #3B4455;\n",
              "      fill: #D2E3FC;\n",
              "    }\n",
              "\n",
              "    [theme=dark] .colab-df-convert:hover {\n",
              "      background-color: #434B5C;\n",
              "      box-shadow: 0px 1px 3px 1px rgba(0, 0, 0, 0.15);\n",
              "      filter: drop-shadow(0px 1px 2px rgba(0, 0, 0, 0.3));\n",
              "      fill: #FFFFFF;\n",
              "    }\n",
              "  </style>\n",
              "\n",
              "    <script>\n",
              "      const buttonEl =\n",
              "        document.querySelector('#df-47afb2db-4642-4337-b746-dcc3d014684b button.colab-df-convert');\n",
              "      buttonEl.style.display =\n",
              "        google.colab.kernel.accessAllowed ? 'block' : 'none';\n",
              "\n",
              "      async function convertToInteractive(key) {\n",
              "        const element = document.querySelector('#df-47afb2db-4642-4337-b746-dcc3d014684b');\n",
              "        const dataTable =\n",
              "          await google.colab.kernel.invokeFunction('convertToInteractive',\n",
              "                                                    [key], {});\n",
              "        if (!dataTable) return;\n",
              "\n",
              "        const docLinkHtml = 'Like what you see? Visit the ' +\n",
              "          '<a target=\"_blank\" href=https://colab.research.google.com/notebooks/data_table.ipynb>data table notebook</a>'\n",
              "          + ' to learn more about interactive tables.';\n",
              "        element.innerHTML = '';\n",
              "        dataTable['output_type'] = 'display_data';\n",
              "        await google.colab.output.renderOutput(dataTable, element);\n",
              "        const docLink = document.createElement('div');\n",
              "        docLink.innerHTML = docLinkHtml;\n",
              "        element.appendChild(docLink);\n",
              "      }\n",
              "    </script>\n",
              "  </div>\n",
              "\n",
              "\n",
              "<div id=\"df-00c79533-6d93-44c3-8a15-5532ce594107\">\n",
              "  <button class=\"colab-df-quickchart\" onclick=\"quickchart('df-00c79533-6d93-44c3-8a15-5532ce594107')\"\n",
              "            title=\"Suggest charts\"\n",
              "            style=\"display:none;\">\n",
              "\n",
              "<svg xmlns=\"http://www.w3.org/2000/svg\" height=\"24px\"viewBox=\"0 0 24 24\"\n",
              "     width=\"24px\">\n",
              "    <g>\n",
              "        <path d=\"M19 3H5c-1.1 0-2 .9-2 2v14c0 1.1.9 2 2 2h14c1.1 0 2-.9 2-2V5c0-1.1-.9-2-2-2zM9 17H7v-7h2v7zm4 0h-2V7h2v10zm4 0h-2v-4h2v4z\"/>\n",
              "    </g>\n",
              "</svg>\n",
              "  </button>\n",
              "\n",
              "<style>\n",
              "  .colab-df-quickchart {\n",
              "      --bg-color: #E8F0FE;\n",
              "      --fill-color: #1967D2;\n",
              "      --hover-bg-color: #E2EBFA;\n",
              "      --hover-fill-color: #174EA6;\n",
              "      --disabled-fill-color: #AAA;\n",
              "      --disabled-bg-color: #DDD;\n",
              "  }\n",
              "\n",
              "  [theme=dark] .colab-df-quickchart {\n",
              "      --bg-color: #3B4455;\n",
              "      --fill-color: #D2E3FC;\n",
              "      --hover-bg-color: #434B5C;\n",
              "      --hover-fill-color: #FFFFFF;\n",
              "      --disabled-bg-color: #3B4455;\n",
              "      --disabled-fill-color: #666;\n",
              "  }\n",
              "\n",
              "  .colab-df-quickchart {\n",
              "    background-color: var(--bg-color);\n",
              "    border: none;\n",
              "    border-radius: 50%;\n",
              "    cursor: pointer;\n",
              "    display: none;\n",
              "    fill: var(--fill-color);\n",
              "    height: 32px;\n",
              "    padding: 0;\n",
              "    width: 32px;\n",
              "  }\n",
              "\n",
              "  .colab-df-quickchart:hover {\n",
              "    background-color: var(--hover-bg-color);\n",
              "    box-shadow: 0 1px 2px rgba(60, 64, 67, 0.3), 0 1px 3px 1px rgba(60, 64, 67, 0.15);\n",
              "    fill: var(--button-hover-fill-color);\n",
              "  }\n",
              "\n",
              "  .colab-df-quickchart-complete:disabled,\n",
              "  .colab-df-quickchart-complete:disabled:hover {\n",
              "    background-color: var(--disabled-bg-color);\n",
              "    fill: var(--disabled-fill-color);\n",
              "    box-shadow: none;\n",
              "  }\n",
              "\n",
              "  .colab-df-spinner {\n",
              "    border: 2px solid var(--fill-color);\n",
              "    border-color: transparent;\n",
              "    border-bottom-color: var(--fill-color);\n",
              "    animation:\n",
              "      spin 1s steps(1) infinite;\n",
              "  }\n",
              "\n",
              "  @keyframes spin {\n",
              "    0% {\n",
              "      border-color: transparent;\n",
              "      border-bottom-color: var(--fill-color);\n",
              "      border-left-color: var(--fill-color);\n",
              "    }\n",
              "    20% {\n",
              "      border-color: transparent;\n",
              "      border-left-color: var(--fill-color);\n",
              "      border-top-color: var(--fill-color);\n",
              "    }\n",
              "    30% {\n",
              "      border-color: transparent;\n",
              "      border-left-color: var(--fill-color);\n",
              "      border-top-color: var(--fill-color);\n",
              "      border-right-color: var(--fill-color);\n",
              "    }\n",
              "    40% {\n",
              "      border-color: transparent;\n",
              "      border-right-color: var(--fill-color);\n",
              "      border-top-color: var(--fill-color);\n",
              "    }\n",
              "    60% {\n",
              "      border-color: transparent;\n",
              "      border-right-color: var(--fill-color);\n",
              "    }\n",
              "    80% {\n",
              "      border-color: transparent;\n",
              "      border-right-color: var(--fill-color);\n",
              "      border-bottom-color: var(--fill-color);\n",
              "    }\n",
              "    90% {\n",
              "      border-color: transparent;\n",
              "      border-bottom-color: var(--fill-color);\n",
              "    }\n",
              "  }\n",
              "</style>\n",
              "\n",
              "  <script>\n",
              "    async function quickchart(key) {\n",
              "      const quickchartButtonEl =\n",
              "        document.querySelector('#' + key + ' button');\n",
              "      quickchartButtonEl.disabled = true;  // To prevent multiple clicks.\n",
              "      quickchartButtonEl.classList.add('colab-df-spinner');\n",
              "      try {\n",
              "        const charts = await google.colab.kernel.invokeFunction(\n",
              "            'suggestCharts', [key], {});\n",
              "      } catch (error) {\n",
              "        console.error('Error during call to suggestCharts:', error);\n",
              "      }\n",
              "      quickchartButtonEl.classList.remove('colab-df-spinner');\n",
              "      quickchartButtonEl.classList.add('colab-df-quickchart-complete');\n",
              "    }\n",
              "    (() => {\n",
              "      let quickchartButtonEl =\n",
              "        document.querySelector('#df-00c79533-6d93-44c3-8a15-5532ce594107 button');\n",
              "      quickchartButtonEl.style.display =\n",
              "        google.colab.kernel.accessAllowed ? 'block' : 'none';\n",
              "    })();\n",
              "  </script>\n",
              "</div>\n",
              "\n",
              "    </div>\n",
              "  </div>\n"
            ],
            "application/vnd.google.colaboratory.intrinsic+json": {
              "type": "dataframe",
              "summary": "{\n  \"name\": \"df\",\n  \"rows\": 5,\n  \"fields\": [\n    {\n      \"column\": \"tweet\",\n      \"properties\": {\n        \"dtype\": \"string\",\n        \"num_unique_values\": 5,\n        \"samples\": [\n          \"you've gone and broke the wrong heart baby, and drove me redneck crazy\",\n          \"~~Ruffled | Ntac Eileen Dahlia - Beautiful color combination of pink, orange, yellow &amp; white. A Coll http://t.co/H0dYEBvnZB\",\n          \"young buck wanna eat!!.. dat nigguh like I aint fuckin dis up again\"\n        ],\n        \"semantic_type\": \"\",\n        \"description\": \"\"\n      }\n    },\n    {\n      \"column\": \"class\",\n      \"properties\": {\n        \"dtype\": \"number\",\n        \"std\": 0,\n        \"min\": 0,\n        \"max\": 1,\n        \"num_unique_values\": 2,\n        \"samples\": [\n          0,\n          1\n        ],\n        \"semantic_type\": \"\",\n        \"description\": \"\"\n      }\n    },\n    {\n      \"column\": \"tweet_clean\",\n      \"properties\": {\n        \"dtype\": \"string\",\n        \"num_unique_values\": 5,\n        \"samples\": [\n          \"you've gone and broke the wrong heart baby and drove me redneck crazy\",\n          \"Ruffled Ntac Eileen Dahlia Beautiful color combination of pink orange yellow white A Coll\"\n        ],\n        \"semantic_type\": \"\",\n        \"description\": \"\"\n      }\n    }\n  ]\n}"
            }
          },
          "metadata": {},
          "execution_count": 29
        }
      ]
    },
    {
      "cell_type": "markdown",
      "source": [
        "# Preprocessing"
      ],
      "metadata": {
        "id": "CTGCvW1-Vuiw"
      }
    },
    {
      "cell_type": "code",
      "source": [
        "def tokenize(doc):\n",
        "    return word_tokenize(doc)\n",
        "\n",
        "\n",
        "def remove_stopwords(doc):\n",
        "    stops = set(stopwords.words(\"english\"))\n",
        "    stops.add(\"rt\")\n",
        "    return [token for token in doc if token not in stops]\n",
        "\n",
        "\n",
        "def decontracted(phrase):\n",
        "    # specific\n",
        "    phrase = re.sub(r\"won\\'t\", \"will not\", phrase)\n",
        "    phrase = re.sub(r\"can\\'t\", \"can not\", phrase)\n",
        "    phrase = re.sub(r\"ain\\'t\", \"are not\", phrase)\n",
        "    phrase = re.sub(r\"shan\\'t\", \"shall not\", phrase)\n",
        "    phrase = re.sub(r\"ma\\'am\", \"maam\", phrase)\n",
        "    phrase = re.sub(r\"y\\'all\", \"you all\", phrase)\n",
        "\n",
        "    # general\n",
        "    phrase = re.sub(r\"n\\'t\", \" not\", phrase)\n",
        "    phrase = re.sub(r\"\\'re\", \" are\", phrase)\n",
        "    phrase = re.sub(r\"\\'s\", \" is\", phrase)\n",
        "    phrase = re.sub(r\"\\'d\", \" would\", phrase)\n",
        "    phrase = re.sub(r\"\\'ll\", \" will\", phrase)\n",
        "    phrase = re.sub(r\"\\'t\", \" not\", phrase)\n",
        "    phrase = re.sub(r\"\\'ve\", \" have\", phrase)\n",
        "    phrase = re.sub(r\"\\'m\", \" am\", phrase)\n",
        "    return phrase\n",
        "\n",
        "lemmatizer = WordNetLemmatizer()\n",
        "\n",
        "df = (df\n",
        "    .assign(\n",
        "        tweet_preprocessed=lambda df_: (\n",
        "            df_[\"tweet_clean\"]\n",
        "            .str.lower()\n",
        "            .apply(lambda doc: [decontracted(word) for word in doc.split(\" \")])\n",
        "            .apply(lambda doc: [lemmatizer.lemmatize(word) for word in doc])\n",
        "            .apply(lambda doc: \" \".join(doc))\n",
        "            .apply(word_tokenize)\n",
        "            .apply(remove_stopwords)\n",
        "       )\n",
        "    )\n",
        ")\n",
        "\n",
        "df.sample(5)"
      ],
      "metadata": {
        "execution": {
          "iopub.status.busy": "2024-05-23T16:32:57.893449Z",
          "iopub.execute_input": "2024-05-23T16:32:57.894086Z",
          "iopub.status.idle": "2024-05-23T16:33:17.951949Z",
          "shell.execute_reply.started": "2024-05-23T16:32:57.894053Z",
          "shell.execute_reply": "2024-05-23T16:33:17.951134Z"
        },
        "trusted": true,
        "colab": {
          "base_uri": "https://localhost:8080/",
          "height": 241
        },
        "id": "MaJfu3YdVuiw",
        "outputId": "117359de-b147-4ad5-f9db-a26048a1017f"
      },
      "execution_count": null,
      "outputs": [
        {
          "output_type": "execute_result",
          "data": {
            "text/plain": [
              "                                                   tweet  class  \\\n",
              "7940   Bands will make her dance , stamps will make h...      1   \n",
              "23976  i get what that girls point seems to be but co...      0   \n",
              "20905                 Smile at the bitches who hate you.      1   \n",
              "22506  We are back bitches! @vnpacheco21 @xoxoclaire_...      1   \n",
              "31     \" i'd say im back to the old me but my old bit...      1   \n",
              "\n",
              "                                             tweet_clean  \\\n",
              "7940   Bands will make her dance stamps will make her...   \n",
              "23976  i get what that girls point seems to be but co...   \n",
              "20905                  Smile at the bitches who hate you   \n",
              "22506                                We are back bitches   \n",
              "31     i'd say im back to the old me but my old bitch...   \n",
              "\n",
              "                                      tweet_preprocessed  \n",
              "7940   [band, make, dance, stamp, make, twerk, romney...  \n",
              "23976  [get, girl, point, seems, colored, people, die...  \n",
              "20905                               [smile, bitch, hate]  \n",
              "22506                                      [back, bitch]  \n",
              "31     [would, say, im, back, old, old, bitch, would,...  "
            ],
            "text/html": [
              "\n",
              "  <div id=\"df-cf375b1b-cfeb-4f0f-b07e-e35174aa8ebb\" class=\"colab-df-container\">\n",
              "    <div>\n",
              "<style scoped>\n",
              "    .dataframe tbody tr th:only-of-type {\n",
              "        vertical-align: middle;\n",
              "    }\n",
              "\n",
              "    .dataframe tbody tr th {\n",
              "        vertical-align: top;\n",
              "    }\n",
              "\n",
              "    .dataframe thead th {\n",
              "        text-align: right;\n",
              "    }\n",
              "</style>\n",
              "<table border=\"1\" class=\"dataframe\">\n",
              "  <thead>\n",
              "    <tr style=\"text-align: right;\">\n",
              "      <th></th>\n",
              "      <th>tweet</th>\n",
              "      <th>class</th>\n",
              "      <th>tweet_clean</th>\n",
              "      <th>tweet_preprocessed</th>\n",
              "    </tr>\n",
              "  </thead>\n",
              "  <tbody>\n",
              "    <tr>\n",
              "      <th>7940</th>\n",
              "      <td>Bands will make her dance , stamps will make h...</td>\n",
              "      <td>1</td>\n",
              "      <td>Bands will make her dance stamps will make her...</td>\n",
              "      <td>[band, make, dance, stamp, make, twerk, romney...</td>\n",
              "    </tr>\n",
              "    <tr>\n",
              "      <th>23976</th>\n",
              "      <td>i get what that girls point seems to be but co...</td>\n",
              "      <td>0</td>\n",
              "      <td>i get what that girls point seems to be but co...</td>\n",
              "      <td>[get, girl, point, seems, colored, people, die...</td>\n",
              "    </tr>\n",
              "    <tr>\n",
              "      <th>20905</th>\n",
              "      <td>Smile at the bitches who hate you.</td>\n",
              "      <td>1</td>\n",
              "      <td>Smile at the bitches who hate you</td>\n",
              "      <td>[smile, bitch, hate]</td>\n",
              "    </tr>\n",
              "    <tr>\n",
              "      <th>22506</th>\n",
              "      <td>We are back bitches! @vnpacheco21 @xoxoclaire_...</td>\n",
              "      <td>1</td>\n",
              "      <td>We are back bitches</td>\n",
              "      <td>[back, bitch]</td>\n",
              "    </tr>\n",
              "    <tr>\n",
              "      <th>31</th>\n",
              "      <td>\" i'd say im back to the old me but my old bit...</td>\n",
              "      <td>1</td>\n",
              "      <td>i'd say im back to the old me but my old bitch...</td>\n",
              "      <td>[would, say, im, back, old, old, bitch, would,...</td>\n",
              "    </tr>\n",
              "  </tbody>\n",
              "</table>\n",
              "</div>\n",
              "    <div class=\"colab-df-buttons\">\n",
              "\n",
              "  <div class=\"colab-df-container\">\n",
              "    <button class=\"colab-df-convert\" onclick=\"convertToInteractive('df-cf375b1b-cfeb-4f0f-b07e-e35174aa8ebb')\"\n",
              "            title=\"Convert this dataframe to an interactive table.\"\n",
              "            style=\"display:none;\">\n",
              "\n",
              "  <svg xmlns=\"http://www.w3.org/2000/svg\" height=\"24px\" viewBox=\"0 -960 960 960\">\n",
              "    <path d=\"M120-120v-720h720v720H120Zm60-500h600v-160H180v160Zm220 220h160v-160H400v160Zm0 220h160v-160H400v160ZM180-400h160v-160H180v160Zm440 0h160v-160H620v160ZM180-180h160v-160H180v160Zm440 0h160v-160H620v160Z\"/>\n",
              "  </svg>\n",
              "    </button>\n",
              "\n",
              "  <style>\n",
              "    .colab-df-container {\n",
              "      display:flex;\n",
              "      gap: 12px;\n",
              "    }\n",
              "\n",
              "    .colab-df-convert {\n",
              "      background-color: #E8F0FE;\n",
              "      border: none;\n",
              "      border-radius: 50%;\n",
              "      cursor: pointer;\n",
              "      display: none;\n",
              "      fill: #1967D2;\n",
              "      height: 32px;\n",
              "      padding: 0 0 0 0;\n",
              "      width: 32px;\n",
              "    }\n",
              "\n",
              "    .colab-df-convert:hover {\n",
              "      background-color: #E2EBFA;\n",
              "      box-shadow: 0px 1px 2px rgba(60, 64, 67, 0.3), 0px 1px 3px 1px rgba(60, 64, 67, 0.15);\n",
              "      fill: #174EA6;\n",
              "    }\n",
              "\n",
              "    .colab-df-buttons div {\n",
              "      margin-bottom: 4px;\n",
              "    }\n",
              "\n",
              "    [theme=dark] .colab-df-convert {\n",
              "      background-color: #3B4455;\n",
              "      fill: #D2E3FC;\n",
              "    }\n",
              "\n",
              "    [theme=dark] .colab-df-convert:hover {\n",
              "      background-color: #434B5C;\n",
              "      box-shadow: 0px 1px 3px 1px rgba(0, 0, 0, 0.15);\n",
              "      filter: drop-shadow(0px 1px 2px rgba(0, 0, 0, 0.3));\n",
              "      fill: #FFFFFF;\n",
              "    }\n",
              "  </style>\n",
              "\n",
              "    <script>\n",
              "      const buttonEl =\n",
              "        document.querySelector('#df-cf375b1b-cfeb-4f0f-b07e-e35174aa8ebb button.colab-df-convert');\n",
              "      buttonEl.style.display =\n",
              "        google.colab.kernel.accessAllowed ? 'block' : 'none';\n",
              "\n",
              "      async function convertToInteractive(key) {\n",
              "        const element = document.querySelector('#df-cf375b1b-cfeb-4f0f-b07e-e35174aa8ebb');\n",
              "        const dataTable =\n",
              "          await google.colab.kernel.invokeFunction('convertToInteractive',\n",
              "                                                    [key], {});\n",
              "        if (!dataTable) return;\n",
              "\n",
              "        const docLinkHtml = 'Like what you see? Visit the ' +\n",
              "          '<a target=\"_blank\" href=https://colab.research.google.com/notebooks/data_table.ipynb>data table notebook</a>'\n",
              "          + ' to learn more about interactive tables.';\n",
              "        element.innerHTML = '';\n",
              "        dataTable['output_type'] = 'display_data';\n",
              "        await google.colab.output.renderOutput(dataTable, element);\n",
              "        const docLink = document.createElement('div');\n",
              "        docLink.innerHTML = docLinkHtml;\n",
              "        element.appendChild(docLink);\n",
              "      }\n",
              "    </script>\n",
              "  </div>\n",
              "\n",
              "\n",
              "<div id=\"df-45baa04c-d767-47c2-8359-446ecae28eb7\">\n",
              "  <button class=\"colab-df-quickchart\" onclick=\"quickchart('df-45baa04c-d767-47c2-8359-446ecae28eb7')\"\n",
              "            title=\"Suggest charts\"\n",
              "            style=\"display:none;\">\n",
              "\n",
              "<svg xmlns=\"http://www.w3.org/2000/svg\" height=\"24px\"viewBox=\"0 0 24 24\"\n",
              "     width=\"24px\">\n",
              "    <g>\n",
              "        <path d=\"M19 3H5c-1.1 0-2 .9-2 2v14c0 1.1.9 2 2 2h14c1.1 0 2-.9 2-2V5c0-1.1-.9-2-2-2zM9 17H7v-7h2v7zm4 0h-2V7h2v10zm4 0h-2v-4h2v4z\"/>\n",
              "    </g>\n",
              "</svg>\n",
              "  </button>\n",
              "\n",
              "<style>\n",
              "  .colab-df-quickchart {\n",
              "      --bg-color: #E8F0FE;\n",
              "      --fill-color: #1967D2;\n",
              "      --hover-bg-color: #E2EBFA;\n",
              "      --hover-fill-color: #174EA6;\n",
              "      --disabled-fill-color: #AAA;\n",
              "      --disabled-bg-color: #DDD;\n",
              "  }\n",
              "\n",
              "  [theme=dark] .colab-df-quickchart {\n",
              "      --bg-color: #3B4455;\n",
              "      --fill-color: #D2E3FC;\n",
              "      --hover-bg-color: #434B5C;\n",
              "      --hover-fill-color: #FFFFFF;\n",
              "      --disabled-bg-color: #3B4455;\n",
              "      --disabled-fill-color: #666;\n",
              "  }\n",
              "\n",
              "  .colab-df-quickchart {\n",
              "    background-color: var(--bg-color);\n",
              "    border: none;\n",
              "    border-radius: 50%;\n",
              "    cursor: pointer;\n",
              "    display: none;\n",
              "    fill: var(--fill-color);\n",
              "    height: 32px;\n",
              "    padding: 0;\n",
              "    width: 32px;\n",
              "  }\n",
              "\n",
              "  .colab-df-quickchart:hover {\n",
              "    background-color: var(--hover-bg-color);\n",
              "    box-shadow: 0 1px 2px rgba(60, 64, 67, 0.3), 0 1px 3px 1px rgba(60, 64, 67, 0.15);\n",
              "    fill: var(--button-hover-fill-color);\n",
              "  }\n",
              "\n",
              "  .colab-df-quickchart-complete:disabled,\n",
              "  .colab-df-quickchart-complete:disabled:hover {\n",
              "    background-color: var(--disabled-bg-color);\n",
              "    fill: var(--disabled-fill-color);\n",
              "    box-shadow: none;\n",
              "  }\n",
              "\n",
              "  .colab-df-spinner {\n",
              "    border: 2px solid var(--fill-color);\n",
              "    border-color: transparent;\n",
              "    border-bottom-color: var(--fill-color);\n",
              "    animation:\n",
              "      spin 1s steps(1) infinite;\n",
              "  }\n",
              "\n",
              "  @keyframes spin {\n",
              "    0% {\n",
              "      border-color: transparent;\n",
              "      border-bottom-color: var(--fill-color);\n",
              "      border-left-color: var(--fill-color);\n",
              "    }\n",
              "    20% {\n",
              "      border-color: transparent;\n",
              "      border-left-color: var(--fill-color);\n",
              "      border-top-color: var(--fill-color);\n",
              "    }\n",
              "    30% {\n",
              "      border-color: transparent;\n",
              "      border-left-color: var(--fill-color);\n",
              "      border-top-color: var(--fill-color);\n",
              "      border-right-color: var(--fill-color);\n",
              "    }\n",
              "    40% {\n",
              "      border-color: transparent;\n",
              "      border-right-color: var(--fill-color);\n",
              "      border-top-color: var(--fill-color);\n",
              "    }\n",
              "    60% {\n",
              "      border-color: transparent;\n",
              "      border-right-color: var(--fill-color);\n",
              "    }\n",
              "    80% {\n",
              "      border-color: transparent;\n",
              "      border-right-color: var(--fill-color);\n",
              "      border-bottom-color: var(--fill-color);\n",
              "    }\n",
              "    90% {\n",
              "      border-color: transparent;\n",
              "      border-bottom-color: var(--fill-color);\n",
              "    }\n",
              "  }\n",
              "</style>\n",
              "\n",
              "  <script>\n",
              "    async function quickchart(key) {\n",
              "      const quickchartButtonEl =\n",
              "        document.querySelector('#' + key + ' button');\n",
              "      quickchartButtonEl.disabled = true;  // To prevent multiple clicks.\n",
              "      quickchartButtonEl.classList.add('colab-df-spinner');\n",
              "      try {\n",
              "        const charts = await google.colab.kernel.invokeFunction(\n",
              "            'suggestCharts', [key], {});\n",
              "      } catch (error) {\n",
              "        console.error('Error during call to suggestCharts:', error);\n",
              "      }\n",
              "      quickchartButtonEl.classList.remove('colab-df-spinner');\n",
              "      quickchartButtonEl.classList.add('colab-df-quickchart-complete');\n",
              "    }\n",
              "    (() => {\n",
              "      let quickchartButtonEl =\n",
              "        document.querySelector('#df-45baa04c-d767-47c2-8359-446ecae28eb7 button');\n",
              "      quickchartButtonEl.style.display =\n",
              "        google.colab.kernel.accessAllowed ? 'block' : 'none';\n",
              "    })();\n",
              "  </script>\n",
              "</div>\n",
              "\n",
              "    </div>\n",
              "  </div>\n"
            ],
            "application/vnd.google.colaboratory.intrinsic+json": {
              "type": "dataframe",
              "summary": "{\n  \"name\": \"df\",\n  \"rows\": 5,\n  \"fields\": [\n    {\n      \"column\": \"tweet\",\n      \"properties\": {\n        \"dtype\": \"string\",\n        \"num_unique_values\": 5,\n        \"samples\": [\n          \"i get what that girls point seems to be but colored people died during the holocaust and 9/11. ((if that's a picture of the holocaust idk))\",\n          \"\\\" i'd say im back to the old me but my old bitches would get excited \\\" &#128524;\",\n          \"Smile at the bitches who hate you.\"\n        ],\n        \"semantic_type\": \"\",\n        \"description\": \"\"\n      }\n    },\n    {\n      \"column\": \"class\",\n      \"properties\": {\n        \"dtype\": \"number\",\n        \"std\": 0,\n        \"min\": 0,\n        \"max\": 1,\n        \"num_unique_values\": 2,\n        \"samples\": [\n          0,\n          1\n        ],\n        \"semantic_type\": \"\",\n        \"description\": \"\"\n      }\n    },\n    {\n      \"column\": \"tweet_clean\",\n      \"properties\": {\n        \"dtype\": \"string\",\n        \"num_unique_values\": 5,\n        \"samples\": [\n          \"i get what that girls point seems to be but colored people died during the holocaust and 9 11 if that's a picture of the holocaust idk\",\n          \"i'd say im back to the old me but my old bitches would get excited\"\n        ],\n        \"semantic_type\": \"\",\n        \"description\": \"\"\n      }\n    },\n    {\n      \"column\": \"tweet_preprocessed\",\n      \"properties\": {\n        \"dtype\": \"object\",\n        \"semantic_type\": \"\",\n        \"description\": \"\"\n      }\n    }\n  ]\n}"
            }
          },
          "metadata": {},
          "execution_count": 30
        }
      ]
    },
    {
      "cell_type": "markdown",
      "source": [
        "# Train Test Split"
      ],
      "metadata": {
        "id": "PZR6gwCWVuiw"
      }
    },
    {
      "cell_type": "code",
      "source": [
        "y = df[\"class\"].values\n",
        "x = df[\"tweet_preprocessed\"].values\n",
        "x = [(\" \").join(doc) for  doc in x]\n",
        "\n",
        "x = np.asarray(x)\n",
        "y = np.asarray(y)\n",
        "\n",
        "x_train, x_test, y_train, y_test = train_test_split(x, y, stratify=y, test_size=0.1, random_state=8)\n",
        "\n",
        "print(len(x_train), len(y_train))\n",
        "print(len(x_test), len(y_test))"
      ],
      "metadata": {
        "execution": {
          "iopub.status.busy": "2024-05-23T16:33:17.955879Z",
          "iopub.execute_input": "2024-05-23T16:33:17.956585Z",
          "iopub.status.idle": "2024-05-23T16:33:18.025038Z",
          "shell.execute_reply.started": "2024-05-23T16:33:17.956545Z",
          "shell.execute_reply": "2024-05-23T16:33:18.023572Z"
        },
        "trusted": true,
        "colab": {
          "base_uri": "https://localhost:8080/"
        },
        "id": "FYxnchmPVuiw",
        "outputId": "7dd84cc7-7a45-4f66-ab60-22aef1a8a319"
      },
      "execution_count": null,
      "outputs": [
        {
          "output_type": "stream",
          "name": "stdout",
          "text": [
            "22304 22304\n",
            "2479 2479\n"
          ]
        }
      ]
    },
    {
      "cell_type": "markdown",
      "source": [
        "# Traditional Machine Learning: Feature Engineering, Training, and Testing"
      ],
      "metadata": {
        "id": "Qx3Hf39qVuiw"
      }
    },
    {
      "cell_type": "code",
      "source": [
        "def return_score(y_true, y_pred):\n",
        "    acc = accuracy_score(y_true, y_pred)\n",
        "    f1 = f1_score(y_true, y_pred, average=\"weighted\")\n",
        "    precision = precision_score(y_true, y_pred, average=\"weighted\", zero_division=0.0)\n",
        "    recall = recall_score(y_true, y_pred, average=\"weighted\")\n",
        "    matrix = confusion_matrix(y_true, y_pred, normalize=\"true\")\n",
        "    Scores = namedtuple(\"Scores\", [\"acc\", \"f1\", \"precision\", \"recall\", \"matrix\"])\n",
        "    return Scores(acc, f1, precision, recall, matrix)"
      ],
      "metadata": {
        "execution": {
          "iopub.status.busy": "2024-05-23T16:33:18.026356Z",
          "iopub.execute_input": "2024-05-23T16:33:18.026704Z",
          "iopub.status.idle": "2024-05-23T16:33:18.035100Z",
          "shell.execute_reply.started": "2024-05-23T16:33:18.026675Z",
          "shell.execute_reply": "2024-05-23T16:33:18.033747Z"
        },
        "trusted": true,
        "id": "BCbTWMNqVuix"
      },
      "execution_count": null,
      "outputs": []
    },
    {
      "cell_type": "markdown",
      "source": [
        "We will iterate through the defined models with StrafitiedKFold to check what are the best performing algorithm."
      ],
      "metadata": {
        "id": "p6-40z7dVuix"
      }
    },
    {
      "cell_type": "code",
      "source": [
        "dummy = DummyClassifier()\n",
        "logistic = LogisticRegression(max_iter=1_000, random_state=8)\n",
        "svc = LinearSVC(max_iter=1_000, random_state=8)\n",
        "sgd = SGDClassifier()\n",
        "knn = KNeighborsClassifier()\n",
        "bayes = MultinomialNB()\n",
        "dt = DecisionTreeClassifier()\n",
        "rf = RandomForestClassifier()\n",
        "gb = GradientBoostingClassifier()\n",
        "xgb = XGBClassifier()\n",
        "\n",
        "\n",
        "models = [\n",
        "    dummy,\n",
        "    logistic,\n",
        "    sgd,\n",
        "    dt,\n",
        "    rf,\n",
        "    xgb,\n",
        "]\n",
        "\n",
        "for model in models:\n",
        "    model_name = model.__class__.__name__\n",
        "    model_scores = []\n",
        "\n",
        "    print(model_name)\n",
        "    skf = StratifiedKFold(n_splits=4, shuffle=True, random_state=8)\n",
        "    for i, (train_index, val_index) in enumerate(skf.split(x_train, y_train)):\n",
        "\n",
        "        print(f\"\\tFold {i}\")\n",
        "\n",
        "        # create train and val subset\n",
        "        x_train_count = x_train[train_index]\n",
        "        y_train_count = y_train[train_index]\n",
        "        x_val_count = x_train[val_index]\n",
        "        y_val_count = y_train[val_index]\n",
        "\n",
        "        # oversample minority class in train set to deal with class imbalance\n",
        "        # not oversample the val set to keep it untouched\n",
        "        ros = RandomOverSampler(random_state=42)\n",
        "        x_train_count, y_train_count = ros.fit_resample(x_train_count.reshape(-1, 1), y_train_count)\n",
        "        x_train_count = x_train_count.flatten()\n",
        "\n",
        "        if model_name != \"DummyClassifier\":\n",
        "            # vectorize\n",
        "            vectorizer = CountVectorizer()\n",
        "            vectorizer.fit(x_train_count)\n",
        "            x_train_count = vectorizer.transform(x_train_count)\n",
        "            x_val_count = vectorizer.transform(x_val_count)\n",
        "\n",
        "        # fit and predict\n",
        "        model.fit(x_train_count, y_train_count)\n",
        "        y_pred = model.predict(x_val_count)\n",
        "        scores_this_fold = return_score(y_val_count, y_pred)\n",
        "        model_scores.append(scores_this_fold)\n",
        "\n",
        "    # print scores\n",
        "    mean_acc = np.asarray([score.acc for score in model_scores]).mean()\n",
        "    mean_f1 = np.asarray([score.f1 for score in model_scores]).mean()\n",
        "    mean_precision = np.asarray([score.precision for score in model_scores]).mean()\n",
        "    mean_recall = np.asarray([score.recall for score in model_scores]).mean()\n",
        "    print(f\"\\tAcc: {mean_acc: .5f} | F1: {mean_f1: .5f} | Precision : {mean_precision: .5f} | Recall: {mean_recall: .5f}\")"
      ],
      "metadata": {
        "execution": {
          "iopub.status.busy": "2024-05-23T16:33:18.036975Z",
          "iopub.execute_input": "2024-05-23T16:33:18.037400Z",
          "iopub.status.idle": "2024-05-23T16:35:31.191573Z",
          "shell.execute_reply.started": "2024-05-23T16:33:18.037368Z",
          "shell.execute_reply": "2024-05-23T16:35:31.190320Z"
        },
        "trusted": true,
        "colab": {
          "base_uri": "https://localhost:8080/"
        },
        "id": "69x3bcWtVuix",
        "outputId": "382be62f-d9a8-4419-eebf-e3a3b4f55791"
      },
      "execution_count": null,
      "outputs": [
        {
          "output_type": "stream",
          "name": "stdout",
          "text": [
            "DummyClassifier\n",
            "\tFold 0\n",
            "\tFold 1\n",
            "\tFold 2\n",
            "\tFold 3\n",
            "\tAcc:  0.16800 | F1:  0.04833 | Precision :  0.02822 | Recall:  0.16800\n",
            "LogisticRegression\n",
            "\tFold 0\n",
            "\tFold 1\n",
            "\tFold 2\n",
            "\tFold 3\n",
            "\tAcc:  0.94871 | F1:  0.95039 | Precision :  0.95474 | Recall:  0.94871\n",
            "SGDClassifier\n",
            "\tFold 0\n",
            "\tFold 1\n",
            "\tFold 2\n",
            "\tFold 3\n",
            "\tAcc:  0.95122 | F1:  0.95236 | Precision :  0.95482 | Recall:  0.95122\n",
            "DecisionTreeClassifier\n",
            "\tFold 0\n",
            "\tFold 1\n",
            "\tFold 2\n",
            "\tFold 3\n",
            "\tAcc:  0.94431 | F1:  0.94497 | Precision :  0.94596 | Recall:  0.94431\n",
            "RandomForestClassifier\n",
            "\tFold 0\n",
            "\tFold 1\n",
            "\tFold 2\n",
            "\tFold 3\n",
            "\tAcc:  0.94934 | F1:  0.94992 | Precision :  0.95082 | Recall:  0.94934\n",
            "XGBClassifier\n",
            "\tFold 0\n",
            "\tFold 1\n",
            "\tFold 2\n",
            "\tFold 3\n",
            "\tAcc:  0.94790 | F1:  0.94999 | Precision :  0.95622 | Recall:  0.94790\n"
          ]
        }
      ]
    },
    {
      "cell_type": "markdown",
      "source": [
        "As expected, XGBoost is our best model. Time to test out best model."
      ],
      "metadata": {
        "id": "v0vwOf5dVuix"
      }
    },
    {
      "cell_type": "code",
      "source": [
        "xgb = XGBClassifier()\n",
        "vectorizer = CountVectorizer()\n",
        "ros = RandomOverSampler(random_state=42)\n",
        "\n",
        "# resample\n",
        "x_train_res, y_train_res = ros.fit_resample(x_train.reshape(-1, 1), y_train)\n",
        "x_train_res = x_train_res.flatten()\n",
        "\n",
        "# vectorize\n",
        "vectorizer.fit(x_train_res)\n",
        "x_train_vectorized = vectorizer.transform(x_train_res)\n",
        "x_test_vectorized = vectorizer.transform(x_test)\n",
        "\n",
        "# fit and predict\n",
        "xgb.fit(x_train_vectorized, y_train_res)\n",
        "y_pred = xgb.predict(x_test_vectorized)\n",
        "scores = return_score(y_test, y_pred)\n",
        "\n",
        "print(f\"Acc: {scores.acc: .5f} | F1: {scores.f1: .5f} | Precision : {scores.precision: .5f} | Recall: {scores.recall: .5f}\")"
      ],
      "metadata": {
        "execution": {
          "iopub.status.busy": "2024-05-23T16:35:31.193160Z",
          "iopub.execute_input": "2024-05-23T16:35:31.193491Z",
          "iopub.status.idle": "2024-05-23T16:35:33.889281Z",
          "shell.execute_reply.started": "2024-05-23T16:35:31.193463Z",
          "shell.execute_reply": "2024-05-23T16:35:33.888201Z"
        },
        "trusted": true,
        "colab": {
          "base_uri": "https://localhost:8080/"
        },
        "id": "QUC2UrsyVuix",
        "outputId": "40dcd35f-493b-46fc-c093-e7dcbc5d3ecd"
      },
      "execution_count": null,
      "outputs": [
        {
          "output_type": "stream",
          "name": "stdout",
          "text": [
            "Acc:  0.94917 | F1:  0.95127 | Precision :  0.95774 | Recall:  0.94917\n"
          ]
        }
      ]
    },
    {
      "cell_type": "code",
      "source": [
        "from sklearn.metrics import ConfusionMatrixDisplay\n",
        "import matplotlib.pyplot as plt\n",
        "\n",
        "ConfusionMatrixDisplay.from_predictions(y_test, y_pred, normalize=\"true\")\n",
        "plt.show()"
      ],
      "metadata": {
        "execution": {
          "iopub.status.busy": "2024-05-23T16:35:33.890848Z",
          "iopub.execute_input": "2024-05-23T16:35:33.891523Z",
          "iopub.status.idle": "2024-05-23T16:35:34.223682Z",
          "shell.execute_reply.started": "2024-05-23T16:35:33.891488Z",
          "shell.execute_reply": "2024-05-23T16:35:34.222398Z"
        },
        "trusted": true,
        "colab": {
          "base_uri": "https://localhost:8080/",
          "height": 449
        },
        "id": "q3sl68qLVuiy",
        "outputId": "9b93d58a-6d88-4b66-a1ff-cc5dd4574587"
      },
      "execution_count": null,
      "outputs": [
        {
          "output_type": "display_data",
          "data": {
            "text/plain": [
              "<Figure size 640x480 with 2 Axes>"
            ],
            "image/png": "[encoded data removed]"
          },
          "metadata": {}
        }
      ]
    },
    {
      "cell_type": "markdown",
      "source": [
        "# Deep Learning with LSTM: Feature Engineering, Training, and Testing"
      ],
      "metadata": {
        "id": "lMtoKMQcVuiy"
      }
    },
    {
      "cell_type": "markdown",
      "source": [
        "Now we will see if we can achieve better result using LSTM.\n",
        "\n",
        "Split out train and val first because previously we do not have it."
      ],
      "metadata": {
        "id": "2CpryOb7Vuiy"
      }
    },
    {
      "cell_type": "code",
      "source": [
        "x_train_nn, x_val_nn, y_train_nn, y_val_nn = train_test_split(\n",
        "    x_train, y_train, test_size=0.1, stratify=y_train, random_state=8\n",
        ")\n",
        "x_test_nn = x_test.copy()\n",
        "y_test_nn = y_test.copy()\n",
        "\n",
        "print(x_train_nn.shape, y_train_nn.shape)\n",
        "print(x_val_nn.shape, y_val_nn.shape)\n",
        "print(x_test_nn.shape, y_test_nn.shape)"
      ],
      "metadata": {
        "execution": {
          "iopub.status.busy": "2024-05-23T16:35:34.225194Z",
          "iopub.execute_input": "2024-05-23T16:35:34.225583Z",
          "iopub.status.idle": "2024-05-23T16:35:34.251945Z",
          "shell.execute_reply.started": "2024-05-23T16:35:34.225551Z",
          "shell.execute_reply": "2024-05-23T16:35:34.250749Z"
        },
        "trusted": true,
        "colab": {
          "base_uri": "https://localhost:8080/"
        },
        "id": "dJRrHhK9Vuiy",
        "outputId": "c4538020-a703-4f37-b632-6ea1cc244561"
      },
      "execution_count": null,
      "outputs": [
        {
          "output_type": "stream",
          "name": "stdout",
          "text": [
            "(20073,) (20073,)\n",
            "(2231,) (2231,)\n",
            "(2479,) (2479,)\n"
          ]
        }
      ]
    },
    {
      "cell_type": "markdown",
      "source": [
        "Build word index."
      ],
      "metadata": {
        "id": "uAuiuB3iVuiy"
      }
    },
    {
      "cell_type": "code",
      "source": [
        "from tensorflow.keras.preprocessing.text import Tokenizer\n",
        "\n",
        "tokenizer = Tokenizer()\n",
        "tokenizer.fit_on_texts(x_train_nn)\n",
        "\n",
        "word_index = tokenizer.word_index\n",
        "vocab_size = len(word_index)\n",
        "print(\"Vocabulary Size :\", vocab_size)"
      ],
      "metadata": {
        "execution": {
          "iopub.status.busy": "2024-05-23T16:35:34.254021Z",
          "iopub.execute_input": "2024-05-23T16:35:34.254858Z",
          "iopub.status.idle": "2024-05-23T16:35:34.725696Z",
          "shell.execute_reply.started": "2024-05-23T16:35:34.254823Z",
          "shell.execute_reply": "2024-05-23T16:35:34.724339Z"
        },
        "trusted": true,
        "colab": {
          "base_uri": "https://localhost:8080/"
        },
        "id": "X-zr7izZVuiy",
        "outputId": "17a155cd-f516-449d-f7b3-deb7b6b25171"
      },
      "execution_count": null,
      "outputs": [
        {
          "output_type": "stream",
          "name": "stdout",
          "text": [
            "Vocabulary Size : 16765\n"
          ]
        }
      ]
    },
    {
      "cell_type": "markdown",
      "source": [
        "Then, map each word to their respective word index."
      ],
      "metadata": {
        "id": "g6uJ1K2SVuiz"
      }
    },
    {
      "cell_type": "code",
      "source": [
        "x_train_nn = tokenizer.texts_to_sequences(x_train_nn)\n",
        "x_val_nn = tokenizer.texts_to_sequences(x_val_nn)\n",
        "x_test_nn = tokenizer.texts_to_sequences(x_test_nn)"
      ],
      "metadata": {
        "execution": {
          "iopub.status.busy": "2024-05-23T16:35:34.727219Z",
          "iopub.execute_input": "2024-05-23T16:35:34.727687Z",
          "iopub.status.idle": "2024-05-23T16:35:35.153405Z",
          "shell.execute_reply.started": "2024-05-23T16:35:34.727645Z",
          "shell.execute_reply": "2024-05-23T16:35:35.152184Z"
        },
        "trusted": true,
        "id": "Uqu9Q0c8Vuiz"
      },
      "execution_count": null,
      "outputs": []
    },
    {
      "cell_type": "code",
      "source": [
        "print(x_train_nn[:3])"
      ],
      "metadata": {
        "execution": {
          "iopub.status.busy": "2024-05-23T16:35:35.154818Z",
          "iopub.execute_input": "2024-05-23T16:35:35.155278Z",
          "iopub.status.idle": "2024-05-23T16:35:35.161843Z",
          "shell.execute_reply.started": "2024-05-23T16:35:35.155218Z",
          "shell.execute_reply": "2024-05-23T16:35:35.160618Z"
        },
        "trusted": true,
        "colab": {
          "base_uri": "https://localhost:8080/"
        },
        "id": "wnF2QLWxVuiz",
        "outputId": "f0c7ec0e-ab70-4439-cc46-60bc67a0e6c9"
      },
      "execution_count": null,
      "outputs": [
        {
          "output_type": "stream",
          "name": "stdout",
          "text": [
            "[[1538, 1538, 107, 5, 198, 66, 849, 4, 207, 5, 164, 124, 4148], [249, 7592, 24], [16, 3440, 244, 1, 685, 3440]]\n"
          ]
        }
      ]
    },
    {
      "cell_type": "markdown",
      "source": [
        "Now, our docs in corpus have variative length."
      ],
      "metadata": {
        "id": "Mql-Vy74Vui3"
      }
    },
    {
      "cell_type": "code",
      "source": [
        "min(len(doc) for doc in x_train_nn), max(len(doc) for doc in x_train_nn)"
      ],
      "metadata": {
        "execution": {
          "iopub.status.busy": "2024-05-23T16:35:35.163379Z",
          "iopub.execute_input": "2024-05-23T16:35:35.164214Z",
          "iopub.status.idle": "2024-05-23T16:35:35.182951Z",
          "shell.execute_reply.started": "2024-05-23T16:35:35.164170Z",
          "shell.execute_reply": "2024-05-23T16:35:35.181976Z"
        },
        "trusted": true,
        "colab": {
          "base_uri": "https://localhost:8080/"
        },
        "id": "2ZO5Q7TkVui3",
        "outputId": "32dd2dbb-1849-470c-cbcf-f638d54e6c48"
      },
      "execution_count": null,
      "outputs": [
        {
          "output_type": "execute_result",
          "data": {
            "text/plain": [
              "(0, 27)"
            ]
          },
          "metadata": {},
          "execution_count": 41
        }
      ]
    },
    {
      "cell_type": "markdown",
      "source": [
        "We will pad them so they become of the same length."
      ],
      "metadata": {
        "id": "HXcQnL5HVui3"
      }
    },
    {
      "cell_type": "code",
      "source": [
        "max_seq_length = 30\n",
        "x_train_nn = pad_sequences(\n",
        "    x_train_nn, maxlen=max_seq_length, padding=\"post\", truncating=\"post\"\n",
        ")\n",
        "x_val_nn = pad_sequences(\n",
        "    x_val_nn, maxlen=max_seq_length, padding=\"post\", truncating=\"post\"\n",
        ")\n",
        "x_test_nn = pad_sequences(\n",
        "    x_test_nn, maxlen=max_seq_length, padding=\"post\", truncating=\"post\"\n",
        ")\n",
        "\n",
        "min(len(doc) for doc in x_train_nn), max(len(doc) for doc in x_train_nn)"
      ],
      "metadata": {
        "execution": {
          "iopub.status.busy": "2024-05-23T16:35:35.184503Z",
          "iopub.execute_input": "2024-05-23T16:35:35.185203Z",
          "iopub.status.idle": "2024-05-23T16:35:35.327067Z",
          "shell.execute_reply.started": "2024-05-23T16:35:35.185160Z",
          "shell.execute_reply": "2024-05-23T16:35:35.325842Z"
        },
        "trusted": true,
        "colab": {
          "base_uri": "https://localhost:8080/"
        },
        "id": "G3MmztisVui3",
        "outputId": "9b279f68-6dc0-4fed-cea8-456454aaca18"
      },
      "execution_count": null,
      "outputs": [
        {
          "output_type": "execute_result",
          "data": {
            "text/plain": [
              "(30, 30)"
            ]
          },
          "metadata": {},
          "execution_count": 42
        }
      ]
    },
    {
      "cell_type": "markdown",
      "source": [
        "Next, encode the target into categorical."
      ],
      "metadata": {
        "id": "KRWkzM9MVui3"
      }
    },
    {
      "cell_type": "code",
      "source": [
        "from tensorflow.keras.utils import to_categorical\n",
        "\n",
        "print(f\"Before: {y_train_nn[:5]}\")\n",
        "\n",
        "y_train_nn = to_categorical(y_train_nn)\n",
        "y_val_nn = to_categorical(y_val_nn)\n",
        "y_test_nn = to_categorical(y_test_nn)\n",
        "\n",
        "print(f\"After: {y_train_nn[:5]}\")"
      ],
      "metadata": {
        "execution": {
          "iopub.status.busy": "2024-05-23T16:35:35.328722Z",
          "iopub.execute_input": "2024-05-23T16:35:35.329398Z",
          "iopub.status.idle": "2024-05-23T16:35:35.340917Z",
          "shell.execute_reply.started": "2024-05-23T16:35:35.329356Z",
          "shell.execute_reply": "2024-05-23T16:35:35.339644Z"
        },
        "trusted": true,
        "colab": {
          "base_uri": "https://localhost:8080/"
        },
        "id": "KDh_73awVui4",
        "outputId": "a1f8e0a9-9f5f-4eea-bdd1-5c69010b3ce8"
      },
      "execution_count": null,
      "outputs": [
        {
          "output_type": "stream",
          "name": "stdout",
          "text": [
            "Before: [1 0 1 0 1]\n",
            "After: [[0. 1.]\n",
            " [1. 0.]\n",
            " [0. 1.]\n",
            " [1. 0.]\n",
            " [0. 1.]]\n"
          ]
        }
      ]
    },
    {
      "cell_type": "code",
      "source": [
        "model = Sequential()\n",
        "model.add(Embedding(vocab_size, 64))\n",
        "model.add(Bidirectional(LSTM(32, dropout=0.3, recurrent_dropout=0.3)))\n",
        "model.add(Dense(16, activation=\"relu\"))\n",
        "model.add(Dense(2, activation=\"softmax\"))\n",
        "\n",
        "model.compile(\n",
        "    loss=\"categorical_crossentropy\",\n",
        "    optimizer=RMSprop(learning_rate=0.0001),\n",
        "    metrics=[\"acc\"]\n",
        ")\n",
        "model.summary()"
      ],
      "metadata": {
        "execution": {
          "iopub.status.busy": "2024-05-23T16:35:35.342210Z",
          "iopub.execute_input": "2024-05-23T16:35:35.342601Z",
          "iopub.status.idle": "2024-05-23T16:35:35.435913Z",
          "shell.execute_reply.started": "2024-05-23T16:35:35.342572Z",
          "shell.execute_reply": "2024-05-23T16:35:35.434791Z"
        },
        "trusted": true,
        "colab": {
          "base_uri": "https://localhost:8080/"
        },
        "id": "Gam5BidcVui4",
        "outputId": "cd475696-98b7-49e1-add3-a1a16d3fb700"
      },
      "execution_count": null,
      "outputs": [
        {
          "output_type": "stream",
          "name": "stderr",
          "text": [
            "WARNING:tensorflow:Layer lstm will not use cuDNN kernels since it doesn't meet the criteria. It will use a generic GPU kernel as fallback when running on GPU.\n",
            "WARNING:tensorflow:Layer lstm will not use cuDNN kernels since it doesn't meet the criteria. It will use a generic GPU kernel as fallback when running on GPU.\n",
            "WARNING:tensorflow:Layer lstm will not use cuDNN kernels since it doesn't meet the criteria. It will use a generic GPU kernel as fallback when running on GPU.\n"
          ]
        },
        {
          "output_type": "stream",
          "name": "stdout",
          "text": [
            "Model: \"sequential\"\n",
            "_________________________________________________________________\n",
            " Layer (type)                Output Shape              Param #   \n",
            "=================================================================\n",
            " embedding (Embedding)       (None, None, 64)          1072960   \n",
            "                                                                 \n",
            " bidirectional (Bidirection  (None, 64)                24832     \n",
            " al)                                                             \n",
            "                                                                 \n",
            " dense (Dense)               (None, 16)                1040      \n",
            "                                                                 \n",
            " dense_1 (Dense)             (None, 2)                 34        \n",
            "                                                                 \n",
            "=================================================================\n",
            "Total params: 1098866 (4.19 MB)\n",
            "Trainable params: 1098866 (4.19 MB)\n",
            "Non-trainable params: 0 (0.00 Byte)\n",
            "_________________________________________________________________\n"
          ]
        }
      ]
    },
    {
      "cell_type": "code",
      "source": [
        "early_stopping = EarlyStopping(monitor='val_loss', patience=3)\n",
        "history = model.fit(\n",
        "    x_train_nn, y_train_nn,\n",
        "    batch_size=128,\n",
        "    epochs=50,\n",
        "    validation_data=(x_val_nn, y_val_nn),\n",
        "    callbacks=[early_stopping],\n",
        "    verbose=1\n",
        ")\n",
        "\n",
        "hist = history.history\n",
        "\n",
        "fig, (ax1, ax2) = plt.subplots(1, 2, figsize=(16, 6))\n",
        "ax1.plot(hist['acc'],'r',linewidth=2, label='Training acc')\n",
        "ax1.plot(hist['val_acc'], 'g',linewidth=2, label='Validation acc')\n",
        "ax2.plot(hist['loss'],'r',linewidth=2, label='Training loss')\n",
        "ax2.plot(hist['val_loss'], 'g',linewidth=2, label='Validation loss')\n",
        "\n",
        "fig.suptitle('LSTM Training Scores')\n",
        "\n",
        "ax1.set_title('Accuracy')\n",
        "ax2.set_title('Loss')\n",
        "\n",
        "ax1.set_xlabel('Epoch')\n",
        "ax2.set_xlabel('Epoch')\n",
        "\n",
        "ax1.legend()\n",
        "ax2.legend()\n",
        "\n",
        "plt.show()"
      ],
      "metadata": {
        "execution": {
          "iopub.status.busy": "2024-05-23T16:35:35.437181Z",
          "iopub.execute_input": "2024-05-23T16:35:35.438063Z",
          "iopub.status.idle": "2024-05-23T16:38:19.198693Z",
          "shell.execute_reply.started": "2024-05-23T16:35:35.438030Z",
          "shell.execute_reply": "2024-05-23T16:38:19.197382Z"
        },
        "trusted": true,
        "colab": {
          "base_uri": "https://localhost:8080/",
          "height": 1000
        },
        "id": "IaBE7EXgVui4",
        "outputId": "8a403def-412b-477c-f2c8-c081e44df738"
      },
      "execution_count": null,
      "outputs": [
        {
          "output_type": "stream",
          "name": "stdout",
          "text": [
            "Epoch 1/50\n",
            "157/157 [==============================] - 48s 260ms/step - loss: 0.5810 - acc: 0.8291 - val_loss: 0.4651 - val_acc: 0.8319\n",
            "Epoch 2/50\n",
            "157/157 [==============================] - 35s 223ms/step - loss: 0.4463 - acc: 0.8320 - val_loss: 0.4448 - val_acc: 0.8319\n",
            "Epoch 3/50\n",
            "157/157 [==============================] - 32s 204ms/step - loss: 0.4365 - acc: 0.8320 - val_loss: 0.4350 - val_acc: 0.8319\n",
            "Epoch 4/50\n",
            "157/157 [==============================] - 33s 212ms/step - loss: 0.4217 - acc: 0.8320 - val_loss: 0.4158 - val_acc: 0.8319\n",
            "Epoch 5/50\n",
            "157/157 [==============================] - 31s 200ms/step - loss: 0.3838 - acc: 0.8320 - val_loss: 0.3373 - val_acc: 0.8324\n",
            "Epoch 6/50\n",
            "157/157 [==============================] - 31s 197ms/step - loss: 0.2282 - acc: 0.8953 - val_loss: 0.1827 - val_acc: 0.9189\n",
            "Epoch 7/50\n",
            "157/157 [==============================] - 32s 200ms/step - loss: 0.1639 - acc: 0.9332 - val_loss: 0.1649 - val_acc: 0.9251\n",
            "Epoch 8/50\n",
            "157/157 [==============================] - 30s 194ms/step - loss: 0.1458 - acc: 0.9411 - val_loss: 0.1520 - val_acc: 0.9332\n",
            "Epoch 9/50\n",
            "157/157 [==============================] - 32s 206ms/step - loss: 0.1324 - acc: 0.9489 - val_loss: 0.1472 - val_acc: 0.9332\n",
            "Epoch 10/50\n",
            "157/157 [==============================] - 31s 195ms/step - loss: 0.1239 - acc: 0.9525 - val_loss: 0.1410 - val_acc: 0.9364\n",
            "Epoch 11/50\n",
            "157/157 [==============================] - 31s 196ms/step - loss: 0.1138 - acc: 0.9573 - val_loss: 0.1409 - val_acc: 0.9377\n",
            "Epoch 12/50\n",
            "157/157 [==============================] - 32s 204ms/step - loss: 0.1085 - acc: 0.9600 - val_loss: 0.1358 - val_acc: 0.9413\n",
            "Epoch 13/50\n",
            "157/157 [==============================] - 31s 198ms/step - loss: 0.1045 - acc: 0.9627 - val_loss: 0.1368 - val_acc: 0.9404\n",
            "Epoch 14/50\n",
            "157/157 [==============================] - 30s 194ms/step - loss: 0.0996 - acc: 0.9645 - val_loss: 0.1365 - val_acc: 0.9408\n",
            "Epoch 15/50\n",
            "157/157 [==============================] - 32s 206ms/step - loss: 0.0959 - acc: 0.9652 - val_loss: 0.1357 - val_acc: 0.9417\n",
            "Epoch 16/50\n",
            "157/157 [==============================] - 30s 194ms/step - loss: 0.0930 - acc: 0.9676 - val_loss: 0.1329 - val_acc: 0.9444\n",
            "Epoch 17/50\n",
            "157/157 [==============================] - 30s 192ms/step - loss: 0.0888 - acc: 0.9689 - val_loss: 0.1346 - val_acc: 0.9444\n",
            "Epoch 18/50\n",
            "157/157 [==============================] - 32s 204ms/step - loss: 0.0855 - acc: 0.9704 - val_loss: 0.1333 - val_acc: 0.9444\n",
            "Epoch 19/50\n",
            "157/157 [==============================] - 30s 193ms/step - loss: 0.0826 - acc: 0.9712 - val_loss: 0.1414 - val_acc: 0.9444\n"
          ]
        },
        {
          "output_type": "display_data",
          "data": {
            "text/plain": [
              "<Figure size 1600x600 with 2 Axes>"
            ],
            "image/png": "[encoded data removed]"
          },
          "metadata": {}
        }
      ]
    },
    {
      "cell_type": "markdown",
      "source": [
        "Now test the model."
      ],
      "metadata": {
        "id": "MPeGgaq1Vui4"
      }
    },
    {
      "cell_type": "code",
      "source": [
        "y_pred = model.predict(x_test_nn)\n",
        "\n",
        "scores = return_score(\n",
        "    np.argmax(y_test_nn, axis=1), np.argmax(y_pred, axis=1)\n",
        ")\n",
        "print(f\"Acc: {scores.acc: .5f} | F1: {scores.f1: .5f} | Precision : {scores.precision: .5f} | Recall: {scores.recall: .5f}\")"
      ],
      "metadata": {
        "execution": {
          "iopub.status.busy": "2024-05-23T16:38:19.200163Z",
          "iopub.execute_input": "2024-05-23T16:38:19.200510Z",
          "iopub.status.idle": "2024-05-23T16:38:20.680749Z",
          "shell.execute_reply.started": "2024-05-23T16:38:19.200481Z",
          "shell.execute_reply": "2024-05-23T16:38:20.679330Z"
        },
        "trusted": true,
        "colab": {
          "base_uri": "https://localhost:8080/"
        },
        "id": "vubRnMvDVui4",
        "outputId": "295b2fc1-85bc-4c32-d6f6-d64a913ad5db"
      },
      "execution_count": null,
      "outputs": [
        {
          "output_type": "stream",
          "name": "stdout",
          "text": [
            "78/78 [==============================] - 4s 46ms/step\n",
            "Acc:  0.95119 | F1:  0.95209 | Precision :  0.95379 | Recall:  0.95119\n"
          ]
        }
      ]
    },
    {
      "cell_type": "code",
      "source": [
        "from sklearn.metrics import ConfusionMatrixDisplay\n",
        "import matplotlib.pyplot as plt\n",
        "\n",
        "ConfusionMatrixDisplay.from_predictions(np.argmax(y_test_nn, axis=1), np.argmax(y_pred, axis=1), normalize=\"true\")\n",
        "plt.show()"
      ],
      "metadata": {
        "execution": {
          "iopub.status.busy": "2024-05-23T16:38:20.682366Z",
          "iopub.execute_input": "2024-05-23T16:38:20.682813Z",
          "iopub.status.idle": "2024-05-23T16:38:20.964309Z",
          "shell.execute_reply.started": "2024-05-23T16:38:20.682782Z",
          "shell.execute_reply": "2024-05-23T16:38:20.962681Z"
        },
        "trusted": true,
        "colab": {
          "base_uri": "https://localhost:8080/",
          "height": 449
        },
        "id": "kozvjaxPVui4",
        "outputId": "fbf87a32-82b8-459b-92d8-4fb2ec7a8b9a"
      },
      "execution_count": null,
      "outputs": [
        {
          "output_type": "display_data",
          "data": {
            "text/plain": [
              "<Figure size 640x480 with 2 Axes>"
            ],
            "image/png": "[encoded data removed]"
          },
          "metadata": {}
        }
      ]
    },
    {
      "cell_type": "markdown",
      "source": [
        "# Demonstration"
      ],
      "metadata": {
        "id": "suu7awfPVui5"
      }
    },
    {
      "cell_type": "code",
      "source": [
        "# raw\n",
        "# I apologize for the offensive language\n",
        "test1 = \"@IIITN I am relaxing at home.\"\n",
        "test2 = \"The bloody modi govt is running a fucking extortion racket.\"\n",
        "test3 = \"Recently Watched the @Shah_Rukh_Khan movie. Did not like it.\"\n",
        "test4 = \"I can't stand those immigrants ruining our country fuck them!!!\"\n",
        "test5 = \"@melanie You damn broke bitch you should die LOL\"\n",
        "test6 = \"@DeepPanchani I hate people like you\"\n",
        "test7 = \"@DeepPanchani I love people like you\"\n",
        "\n",
        "docs = [test1, test2, test3, test4, test5, test6, test7]\n",
        "# tokenize\n",
        "docs_processed = tokenizer.texts_to_sequences(docs)\n",
        "# pad\n",
        "docs_processed = pad_sequences(docs_processed, maxlen=max_seq_length, padding=\"post\", truncating=\"post\")\n",
        "# predict\n",
        "y_pred = np.argmax(model.predict(docs_processed), axis=1)\n",
        "\n",
        "print(\"\\nHate speech and offensive language detention algorithm.\")\n",
        "print(\"\\nI aplogize for the offensice language.\")\n",
        "print(\"\\nModel prediction:\")\n",
        "for doc, label in zip(docs, y_pred):\n",
        "    print(f\"{doc: <75} : predicted as {class_map.get(label)}\")"
      ],
      "metadata": {
        "execution": {
          "iopub.status.busy": "2024-05-23T16:38:20.965724Z",
          "iopub.execute_input": "2024-05-23T16:38:20.966088Z",
          "iopub.status.idle": "2024-05-23T16:38:21.073560Z",
          "shell.execute_reply.started": "2024-05-23T16:38:20.966058Z",
          "shell.execute_reply": "2024-05-23T16:38:21.072331Z"
        },
        "trusted": true,
        "colab": {
          "base_uri": "https://localhost:8080/"
        },
        "id": "E8boOtxGVui5",
        "outputId": "3ebbb407-3d2f-48df-dd71-2457b821de0b"
      },
      "execution_count": null,
      "outputs": [
        {
          "output_type": "stream",
          "name": "stdout",
          "text": [
            "1/1 [==============================] - 0s 53ms/step\n",
            "\n",
            "Hate speech and offensive language detention algorithm.\n",
            "\n",
            "I aplogize for the offensice language.\n",
            "\n",
            "Model prediction:\n",
            "@IIITN I am relaxing at home.                                               : predicted as neutral\n",
            "The bloody modi govt is running a fucking extortion racket.                 : predicted as offensive and hate speech\n",
            "Recently Watched the @Shah_Rukh_Khan movie. Did not like it.                : predicted as neutral\n",
            "I can't stand those immigrants ruining our country fuck them!!!             : predicted as offensive and hate speech\n",
            "@melanie You damn broke bitch you should die LOL                            : predicted as offensive and hate speech\n",
            "@DeepPanchani I hate people like you                                        : predicted as offensive and hate speech\n",
            "@DeepPanchani I love people like you                                        : predicted as neutral\n"
          ]
        }
      ]
    },
    {
      "cell_type": "markdown",
      "source": [
        "# Conclusion"
      ],
      "metadata": {
        "id": "s4aTf5b1Vui5"
      }
    },
    {
      "cell_type": "markdown",
      "source": [
        "In this notebook, we've looked into finding hateful and offensive language in Twitter posts. We used both basic machine learning and advanced deep learning techniques with LSTM networks. We started by setting up a simple model using a dummy classifier and then moved on to more complicated methods.\n",
        "\n",
        "From our tests, we noticed that basic machine learning models sometimes struggle to understand the complicated language used in hate speech. But when we introduced LSTM networks, we saw a big improvement in how well the model worked. This shows that deep learning can be really effective in this area.\n",
        "\n",
        "This is the conclusion for the Internship Project."
      ],
      "metadata": {
        "id": "shVJThflVui5"
      }
    },
    {
      "cell_type": "code",
      "source": [],
      "metadata": {
        "id": "_X9vJN2LkQJO"
      },
      "execution_count": null,
      "outputs": []
    }
  ]
}